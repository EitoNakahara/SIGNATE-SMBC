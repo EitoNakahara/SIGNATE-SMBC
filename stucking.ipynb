{
  "cells": [
    {
      "cell_type": "markdown",
      "metadata": {
        "id": "9UsSw-lTe0V-"
      },
      "source": [
        "## __準備__"
      ]
    },
    {
      "cell_type": "code",
      "execution_count": null,
      "metadata": {
        "colab": {
          "base_uri": "https://localhost:8080/"
        },
        "id": "4jSsXB2bM0yC",
        "outputId": "b64e20fe-9a60-4f4c-f5aa-32391a8c6e04"
      },
      "outputs": [
        {
          "output_type": "stream",
          "name": "stdout",
          "text": [
            "Collecting optuna\n",
            "  Downloading optuna-3.5.0-py3-none-any.whl (413 kB)\n",
            "\u001b[2K     \u001b[90m━━━━━━━━━━━━━━━━━━━━━━━━━━━━━━━━━━━━━━━━\u001b[0m \u001b[32m413.4/413.4 kB\u001b[0m \u001b[31m2.2 MB/s\u001b[0m eta \u001b[36m0:00:00\u001b[0m\n",
            "\u001b[?25hCollecting alembic>=1.5.0 (from optuna)\n",
            "  Downloading alembic-1.13.1-py3-none-any.whl (233 kB)\n",
            "\u001b[2K     \u001b[90m━━━━━━━━━━━━━━━━━━━━━━━━━━━━━━━━━━━━━━━━\u001b[0m \u001b[32m233.4/233.4 kB\u001b[0m \u001b[31m16.0 MB/s\u001b[0m eta \u001b[36m0:00:00\u001b[0m\n",
            "\u001b[?25hCollecting colorlog (from optuna)\n",
            "  Downloading colorlog-6.8.0-py3-none-any.whl (11 kB)\n",
            "Requirement already satisfied: numpy in /usr/local/lib/python3.10/dist-packages (from optuna) (1.23.5)\n",
            "Requirement already satisfied: packaging>=20.0 in /usr/local/lib/python3.10/dist-packages (from optuna) (23.2)\n",
            "Requirement already satisfied: sqlalchemy>=1.3.0 in /usr/local/lib/python3.10/dist-packages (from optuna) (2.0.23)\n",
            "Requirement already satisfied: tqdm in /usr/local/lib/python3.10/dist-packages (from optuna) (4.66.1)\n",
            "Requirement already satisfied: PyYAML in /usr/local/lib/python3.10/dist-packages (from optuna) (6.0.1)\n",
            "Collecting Mako (from alembic>=1.5.0->optuna)\n",
            "  Downloading Mako-1.3.0-py3-none-any.whl (78 kB)\n",
            "\u001b[2K     \u001b[90m━━━━━━━━━━━━━━━━━━━━━━━━━━━━━━━━━━━━━━━━\u001b[0m \u001b[32m78.6/78.6 kB\u001b[0m \u001b[31m6.9 MB/s\u001b[0m eta \u001b[36m0:00:00\u001b[0m\n",
            "\u001b[?25hRequirement already satisfied: typing-extensions>=4 in /usr/local/lib/python3.10/dist-packages (from alembic>=1.5.0->optuna) (4.5.0)\n",
            "Requirement already satisfied: greenlet!=0.4.17 in /usr/local/lib/python3.10/dist-packages (from sqlalchemy>=1.3.0->optuna) (3.0.2)\n",
            "Requirement already satisfied: MarkupSafe>=0.9.2 in /usr/local/lib/python3.10/dist-packages (from Mako->alembic>=1.5.0->optuna) (2.1.3)\n",
            "Installing collected packages: Mako, colorlog, alembic, optuna\n",
            "Successfully installed Mako-1.3.0 alembic-1.13.1 colorlog-6.8.0 optuna-3.5.0\n",
            "Collecting catboost\n",
            "  Downloading catboost-1.2.2-cp310-cp310-manylinux2014_x86_64.whl (98.7 MB)\n",
            "\u001b[2K     \u001b[90m━━━━━━━━━━━━━━━━━━━━━━━━━━━━━━━━━━━━━━━━\u001b[0m \u001b[32m98.7/98.7 MB\u001b[0m \u001b[31m8.6 MB/s\u001b[0m eta \u001b[36m0:00:00\u001b[0m\n",
            "\u001b[?25hRequirement already satisfied: graphviz in /usr/local/lib/python3.10/dist-packages (from catboost) (0.20.1)\n",
            "Requirement already satisfied: matplotlib in /usr/local/lib/python3.10/dist-packages (from catboost) (3.7.1)\n",
            "Requirement already satisfied: numpy>=1.16.0 in /usr/local/lib/python3.10/dist-packages (from catboost) (1.23.5)\n",
            "Requirement already satisfied: pandas>=0.24 in /usr/local/lib/python3.10/dist-packages (from catboost) (1.5.3)\n",
            "Requirement already satisfied: scipy in /usr/local/lib/python3.10/dist-packages (from catboost) (1.11.4)\n",
            "Requirement already satisfied: plotly in /usr/local/lib/python3.10/dist-packages (from catboost) (5.15.0)\n",
            "Requirement already satisfied: six in /usr/local/lib/python3.10/dist-packages (from catboost) (1.16.0)\n",
            "Requirement already satisfied: python-dateutil>=2.8.1 in /usr/local/lib/python3.10/dist-packages (from pandas>=0.24->catboost) (2.8.2)\n",
            "Requirement already satisfied: pytz>=2020.1 in /usr/local/lib/python3.10/dist-packages (from pandas>=0.24->catboost) (2023.3.post1)\n",
            "Requirement already satisfied: contourpy>=1.0.1 in /usr/local/lib/python3.10/dist-packages (from matplotlib->catboost) (1.2.0)\n",
            "Requirement already satisfied: cycler>=0.10 in /usr/local/lib/python3.10/dist-packages (from matplotlib->catboost) (0.12.1)\n",
            "Requirement already satisfied: fonttools>=4.22.0 in /usr/local/lib/python3.10/dist-packages (from matplotlib->catboost) (4.47.0)\n",
            "Requirement already satisfied: kiwisolver>=1.0.1 in /usr/local/lib/python3.10/dist-packages (from matplotlib->catboost) (1.4.5)\n",
            "Requirement already satisfied: packaging>=20.0 in /usr/local/lib/python3.10/dist-packages (from matplotlib->catboost) (23.2)\n",
            "Requirement already satisfied: pillow>=6.2.0 in /usr/local/lib/python3.10/dist-packages (from matplotlib->catboost) (9.4.0)\n",
            "Requirement already satisfied: pyparsing>=2.3.1 in /usr/local/lib/python3.10/dist-packages (from matplotlib->catboost) (3.1.1)\n",
            "Requirement already satisfied: tenacity>=6.2.0 in /usr/local/lib/python3.10/dist-packages (from plotly->catboost) (8.2.3)\n",
            "Installing collected packages: catboost\n",
            "Successfully installed catboost-1.2.2\n"
          ]
        }
      ],
      "source": [
        "!pip install optuna\n",
        "!pip install catboost\n",
        "#!pip install sweetviz\n",
        "#!pip install wandb\n",
        "\n",
        "# import sweetviz as sv\n",
        "\n",
        "import time\n",
        "import itertools\n",
        "import numpy as np\n",
        "import pandas as pd\n",
        "import matplotlib.pyplot as plt\n",
        "import seaborn as sns\n",
        "\n",
        "from sklearn.model_selection import StratifiedKFold, GridSearchCV\n",
        "from sklearn.metrics import f1_score, confusion_matrix, classification_report\n",
        "import optuna\n",
        "\n",
        "import lightgbm as lgb\n",
        "from catboost import CatBoostClassifier, Pool\n",
        "from sklearn.linear_model import LogisticRegression\n",
        "\n",
        "# import wandb\n",
        "# wandb.login()\n",
        "\n",
        "import warnings\n",
        "warnings.filterwarnings(\"ignore\", category=FutureWarning)"
      ]
    },
    {
      "cell_type": "code",
      "source": [
        "# Google Driveのマウント\n",
        "from google.colab import drive\n",
        "drive.mount('/content/drive')"
      ],
      "metadata": {
        "colab": {
          "base_uri": "https://localhost:8080/"
        },
        "id": "7n2ztBFH5XX0",
        "outputId": "8909d273-a216-4d9d-8075-b8ff88de4d69"
      },
      "execution_count": null,
      "outputs": [
        {
          "output_type": "stream",
          "name": "stdout",
          "text": [
            "Mounted at /content/drive\n"
          ]
        }
      ]
    },
    {
      "cell_type": "code",
      "execution_count": null,
      "metadata": {
        "id": "TwyEqz3xM0yG"
      },
      "outputs": [],
      "source": [
        "DIR_NAME = '/content/drive/MyDrive/DataCompetition/SMBC/data/'\n",
        "\n",
        "# データの読み込み\n",
        "train = pd.read_csv(DIR_NAME + 'train.csv', index_col=0)\n",
        "test = pd.read_csv(DIR_NAME + 'test.csv', index_col=0)\n",
        "submit_sample = pd.read_csv(DIR_NAME + 'sample_submission.csv', index_col=0, header=None, names=['id', 'y'])"
      ]
    },
    {
      "cell_type": "markdown",
      "source": [
        "## __前処理__"
      ],
      "metadata": {
        "id": "gXKE5ewhcAqH"
      }
    },
    {
      "cell_type": "code",
      "source": [
        "over50 = ['Kentucky coffeetree', 'honeylocust', 'ginkgo', 'American beech', 'European beech', 'hardy rubber tree', 'Turkish hazelnut', 'katsura tree', 'common hackberry', 'river birch', 'Ohio buckeye', 'horse chestnut', 'red maple', 'London planetree', 'dawn redwood', 'sweetgum', 'shingle oak', 'white oak', 'swamp white oak', 'pin oak', 'bur oak', 'black oak', 'pin oak', 'scarlet oak', 'willow oak', 'English oak', \"Schumard's oak\", 'northern red oak', 'black oak', 'bald cypress', 'littleleaf linden', 'silver linden', 'American linden', 'American elm', 'Japanese zelkova']\n",
        "over35_under50 = ['red horse chestnut', 'American hophornbeam', 'European hornbeam', 'Japanese hornbeam', 'Kentucky yellowwood', 'golden raintree', 'Amur maackia', 'Persian ironwood', 'hedge maple', ]\n",
        "under35 = ['Amur maple', 'paperbark maple', 'eastern redbud', 'Oklahoma redbud', 'serviceberry', 'Chinese fringetree', 'flowering dogwood', 'kousa dogwood', 'pagoda dogwood', 'crab apple', 'cockspur hawthorn', 'hawthorn', 'Japanese tree lilac', 'Chinese tree lilac']\n",
        "\n",
        "teardrop = ['Japanese zelkova', 'Callery pear', 'mulberry', 'silver birch', 'pagoda dogwood', 'Cornelian cherry', 'catalpa', 'American beech', 'quaking aspen', 'bigtooth aspen', 'cucumber magnolia', 'magnolia', 'southern magnolia']\n",
        "spade = [\"'Schubert' chokecherry\", 'eastern redbud', 'Oklahoma redbud', 'katsura tree', 'paper birch', 'empress tree', 'eastern cottonwood']\n",
        "uneven = ['littleleaf linden', 'silver linden', 'American linden', 'American elm', 'Chinese elm', 'Siberian elm', 'Japanese tree lilac', 'Chinese tree lilac']\n",
        "oak = ['English oak', \"Schumard's oak\",'pin oak', 'bur oak', 'black oak', 'scarlet oak', 'swamp white oak', 'northern red oak', 'white oak', 'shingle oak']\n",
        "broom = ['pitch pine', 'red pine', 'white pine', 'pine']\n",
        "feather = ['dawn redwood', 'bald cypress', 'Norway spruce', 'blue spruce', 'spruce', 'eastern hemlock']\n",
        "compoundhand = ['red horse chestnut', 'horse chestnut', 'Ohio buckeye', 'paperbark maple']\n",
        "compoundline = ['honeylocust', 'green ash', 'ash', 'white ash', 'Sophora', 'Kentucky coffeetree', 'golden raintree', 'Amur maackia', 'tree of heaven', 'black locust', 'Kentucky yellowwood', 'black walnut', 'Amur cork tree', 'Amur maackia', 'pignut hickory']\n",
        "scales = ['eastern redcedar', 'arborvitae', 'Atlantic white cedar', 'Himalayan cedar', 'Atlas cedar', 'bald cypress', 'pond cypress', 'false cypress']\n",
        "football = ['cherry', 'black cherry', 'purple-leaf plum', 'American hornbeam', 'American hophornbeam', 'European hornbeam', 'Japanese hornbeam', 'crab apple', 'serviceberry', 'flowering dogwood', 'kousa dogwood', 'cucumber magnolia', 'magnolia', 'southern magnolia', 'sawtooth oak', 'willow oak', 'shingle oak', 'hardy rubber tree', 'Japanese snowbell', 'blackgum', 'Persian ironwood', 'crepe myrtle', 'Chinese fringetree', 'European beech', 'two-winged silverbell', 'holly', 'hawthorn', 'cockspur hawthorn']\n",
        "hand = ['London planetree', 'crimson king maple', 'Amur maple', 'Norway maple', 'silver maple', 'maple', 'red maple', 'tartar maple', 'sycamore maple', 'hedge maple', 'Japanese maple', 'sugar maple', 'Shantung maple','paperbark maple', 'trident maple', 'tulip-poplar', 'sweetgum', 'hawthorn', 'cockspur hawthorn', 'ginkgo', 'Turkish hazelnut', 'sassafras']\n",
        "\n",
        "spc_list = {'over50':over50, 'over35_under50':over35_under50, 'under35':under35, 'teardrop':teardrop, 'spade':spade, 'uneven':uneven, 'oak':oak, 'broom':broom, 'feather':feather, 'compoundhand':compoundhand, 'compoundline':compoundline, 'scales':scales, 'football':football, 'hand':hand}\n",
        "\n",
        "def get_data(data):\n",
        "    data = data.drop(['spc_latin', 'nta', 'nta_name', 'boroname', 'borocode', 'cb_num', 'st_senate', 'zip_city'], axis=1) #\n",
        "\n",
        "    data['created_at'] = data['created_at'].apply(lambda x: x[5:7])\n",
        "    data['created_at_int'] = data['created_at'].apply(lambda x: int(x))\n",
        "    data['seasons'] = data['created_at'].apply(lambda x: 1 if int(x) in [3, 4, 5] else (2 if int(x) in [6, 7, 8] else (3 if int(x) in [9, 10, 11] else (4 if int(x) in [12, 1, 2] else None))))\n",
        "\n",
        "    spc_dbh = data.groupby('spc_common')['tree_dbh'].mean()\n",
        "    data['spc_dbh'] = data['spc_common'].map(spc_dbh)\n",
        "    data['dbh_diff'] = data['spc_dbh'] - data['tree_dbh']\n",
        "\n",
        "\n",
        "    spc_dbh_max = data.groupby('spc_common')['tree_dbh'].max()\n",
        "    spc_dbh_min = data.groupby('spc_common')['tree_dbh'].min()\n",
        "    spc_dbh_max = data['spc_common'].map(spc_dbh_max)\n",
        "    spc_dbh_min = data['spc_common'].map(spc_dbh_min)\n",
        "    data['spc_dbh_wide'] = spc_dbh_max - spc_dbh_min\n",
        "\n",
        "    for k, v in spc_list.items():\n",
        "        data[f'{k}'] = data['spc_common'].isin(v).astype(int)\n",
        "\n",
        "    data.fillna('other', inplace=True)\n",
        "\n",
        "    data['problems'] = data['problems'].apply(lambda x: 0 if x=='other' else 1)\n",
        "\n",
        "    return data\n",
        "\n",
        "\n",
        "def get_dataset(train, test):\n",
        "    train_data = get_data(train)\n",
        "    test_data = get_data(test)\n",
        "\n",
        "    train_x = train_data.drop(['health'], axis=1)\n",
        "    y = train_data['health']\n",
        "\n",
        "    all_x = pd.concat([train_x, test_data])\n",
        "    all_x = pd.get_dummies(all_x)\n",
        "\n",
        "    X = all_x.iloc[:train_x.shape[0],:].reset_index(drop=True)\n",
        "    X_test = all_x.iloc[train_x.shape[0]:,:].reset_index(drop=True)\n",
        "\n",
        "    class_weights = {1:1, 0:3.901, 2:16}\n",
        "    X['weight'] = y.apply(lambda x: class_weights[x])\n",
        "\n",
        "    return X, y, X_test\n",
        "\n",
        "X, y, X_test = get_dataset(train, test)"
      ],
      "metadata": {
        "id": "QOu3JMZWcLWY"
      },
      "execution_count": null,
      "outputs": []
    },
    {
      "cell_type": "markdown",
      "metadata": {
        "id": "LffAa903YDin"
      },
      "source": [
        "## __学習__\n",
        "\n",
        "\n",
        "\n"
      ]
    },
    {
      "cell_type": "code",
      "source": [
        "# パラメータ設定\n",
        "SEED = 42 # シード値\n",
        "FOLDS = 5 # 分割数 K\n",
        "NUM_BOOST_ROUND = 1000 # イテレーションの回数\n",
        "\n",
        "valid_scores, results, models, oof_preds_lgb1 = [], [], [], np.zeros((X.shape[0], 3))\n",
        "\n",
        "params = {\n",
        "    'objective': 'multiclass',\n",
        "    'num_class': 3,\n",
        "    'boosting': 'gbdt',\n",
        "    'metric': 'multi_logloss', # 評価指標\n",
        "    'seed': 8,\n",
        "    'learning_rate': 0.05,\n",
        "    'feature_fraction': 0.8,\n",
        "    'bagging_fraction': 0.8,\n",
        "    'bagging_freq': 1,\n",
        "    'verbose': -1,\n",
        "    'early_stopping_round': 10,\n",
        "    'max_depth': 5,\n",
        "    'num_leaves': 20\n",
        "}\n",
        "\n",
        "kf = StratifiedKFold(n_splits=FOLDS, shuffle=True, random_state=SEED)\n",
        "for fold, (train_indices, valid_indices) in enumerate(kf.split(X, y)):\n",
        "    X_train, X_valid = X.iloc[train_indices].copy(), X.iloc[valid_indices].copy()\n",
        "    y_train, y_valid = y[train_indices], y[valid_indices]\n",
        "\n",
        "    lgb_train = lgb.Dataset(\n",
        "        X_train.drop(\"weight\", axis=1),\n",
        "        y_train,\n",
        "        weight=X_train[\"weight\"]\n",
        "    )\n",
        "    lgb_valid = lgb.Dataset(\n",
        "        X_valid.drop(\"weight\", axis=1),\n",
        "        y_valid,\n",
        "        reference=lgb_train,\n",
        "        weight=X_valid[\"weight\"]\n",
        "    )\n",
        "\n",
        "    result = {}\n",
        "    model_lgbm1 = lgb.train(\n",
        "        params=params,\n",
        "        train_set=lgb_train,\n",
        "        valid_sets=[lgb_train, lgb_valid],\n",
        "        valid_names=['Train', 'Valid'],\n",
        "        num_boost_round=NUM_BOOST_ROUND,\n",
        "        callbacks=[\n",
        "            lgb.callback.record_evaluation(result),\n",
        "        ],\n",
        "    )\n",
        "\n",
        "    # 検証データのスコア\n",
        "    y_valid_pred = model_lgbm1.predict(X_valid.drop(\"weight\", axis=1), num_iteration=model_lgbm1.best_iteration)\n",
        "    oof_preds_lgb1[valid_indices] = y_valid_pred  # out-of-fold予測を保存\n",
        "\n",
        "    y_valid_pred_class = np.argmax(y_valid_pred, axis=1)\n",
        "    score = f1_score(y_valid, y_valid_pred_class, average='macro')\n",
        "    valid_scores.append(score)\n",
        "    print(f'Fold: {fold+1}  macrof1: {score}')\n",
        "\n",
        "    report = classification_report(y_valid, y_valid_pred_class)\n",
        "    print(report)\n",
        "\n",
        "    results.append(result)\n",
        "\n",
        "# cv_score = np.mean(valid_scores)\n",
        "# print(f'CV: {cv_score}')"
      ],
      "metadata": {
        "colab": {
          "base_uri": "https://localhost:8080/"
        },
        "id": "DF5tvxKX1b8d",
        "outputId": "a320dae7-f531-4304-a114-f7877b317153"
      },
      "execution_count": null,
      "outputs": [
        {
          "output_type": "stream",
          "name": "stdout",
          "text": [
            "Fold: 1  macrof1: 0.3758619074537095\n",
            "              precision    recall  f1-score   support\n",
            "\n",
            "           0       0.24      0.24      0.24       707\n",
            "           1       0.80      0.80      0.80      3151\n",
            "           2       0.08      0.09      0.09       139\n",
            "\n",
            "    accuracy                           0.68      3997\n",
            "   macro avg       0.37      0.38      0.38      3997\n",
            "weighted avg       0.68      0.68      0.68      3997\n",
            "\n",
            "Fold: 2  macrof1: 0.3597918655145013\n",
            "              precision    recall  f1-score   support\n",
            "\n",
            "           0       0.22      0.23      0.23       707\n",
            "           1       0.80      0.79      0.80      3150\n",
            "           2       0.05      0.06      0.06       140\n",
            "\n",
            "    accuracy                           0.66      3997\n",
            "   macro avg       0.36      0.36      0.36      3997\n",
            "weighted avg       0.67      0.66      0.67      3997\n",
            "\n",
            "Fold: 3  macrof1: 0.3707919268543305\n",
            "              precision    recall  f1-score   support\n",
            "\n",
            "           0       0.24      0.23      0.23       707\n",
            "           1       0.81      0.77      0.79      3150\n",
            "           2       0.06      0.16      0.09       140\n",
            "\n",
            "    accuracy                           0.65      3997\n",
            "   macro avg       0.37      0.38      0.37      3997\n",
            "weighted avg       0.68      0.65      0.66      3997\n",
            "\n",
            "Fold: 4  macrof1: 0.37042804238419164\n",
            "              precision    recall  f1-score   support\n",
            "\n",
            "           0       0.23      0.28      0.25       707\n",
            "           1       0.81      0.74      0.77      3150\n",
            "           2       0.06      0.13      0.09       140\n",
            "\n",
            "    accuracy                           0.64      3997\n",
            "   macro avg       0.37      0.38      0.37      3997\n",
            "weighted avg       0.68      0.64      0.66      3997\n",
            "\n",
            "Fold: 5  macrof1: 0.3608293003892382\n",
            "              precision    recall  f1-score   support\n",
            "\n",
            "           0       0.23      0.22      0.23       707\n",
            "           1       0.80      0.80      0.80      3150\n",
            "           2       0.05      0.06      0.05       139\n",
            "\n",
            "    accuracy                           0.67      3996\n",
            "   macro avg       0.36      0.36      0.36      3996\n",
            "weighted avg       0.68      0.67      0.67      3996\n",
            "\n"
          ]
        }
      ]
    },
    {
      "cell_type": "code",
      "source": [
        "valid_scores, results, models, oof_preds_lgb2 = [], [], [], np.zeros((X.shape[0], 3))\n",
        "\n",
        "params = {\n",
        "    'objective': 'multiclass',\n",
        "    'num_class': 3,\n",
        "    'boosting': 'gbdt',\n",
        "    'metric': 'multi_logloss',\n",
        "    'seed': 8,\n",
        "    'learning_rate': 0.05,\n",
        "    'bagging_freq': 1,\n",
        "    'verbose': -1,\n",
        "    'early_stopping_round': 10,\n",
        "    'max_depth': 4,\n",
        "    'num_leaves': 16,\n",
        "    'feature_fraction': 0.6795216675566491,\n",
        "    'bagging_fraction': 0.648097155291466\n",
        "}\n",
        "\n",
        "kf = StratifiedKFold(n_splits=FOLDS, shuffle=True, random_state=SEED)\n",
        "for fold, (train_indices, valid_indices) in enumerate(kf.split(X, y)):\n",
        "    X_train, X_valid = X.iloc[train_indices].copy(), X.iloc[valid_indices].copy()\n",
        "    y_train, y_valid = y[train_indices], y[valid_indices]\n",
        "\n",
        "    lgb_train = lgb.Dataset(\n",
        "        X_train.drop(\"weight\", axis=1),\n",
        "        y_train,\n",
        "        weight=X_train[\"weight\"]\n",
        "    )\n",
        "    lgb_valid = lgb.Dataset(\n",
        "        X_valid.drop(\"weight\", axis=1),\n",
        "        y_valid,\n",
        "        reference=lgb_train,\n",
        "        weight=X_valid[\"weight\"]\n",
        "    )\n",
        "\n",
        "    result = {}\n",
        "    model_lgbm2 = lgb.train(\n",
        "        params=params,\n",
        "        train_set=lgb_train,\n",
        "        valid_sets=[lgb_train, lgb_valid],\n",
        "        valid_names=['Train', 'Valid'],\n",
        "        num_boost_round=NUM_BOOST_ROUND,\n",
        "        callbacks=[\n",
        "            lgb.callback.record_evaluation(result),\n",
        "        ],\n",
        "    )\n",
        "\n",
        "    # 検証データのスコア\n",
        "    y_valid_pred = model_lgbm2.predict(X_valid.drop(\"weight\", axis=1), num_iteration=model_lgbm2.best_iteration)\n",
        "    oof_preds_lgb2[valid_indices] = y_valid_pred\n",
        "\n",
        "    y_valid_pred_class = np.argmax(y_valid_pred, axis=1)\n",
        "    score = f1_score(y_valid, y_valid_pred_class, average='macro')\n",
        "    valid_scores.append(score)\n",
        "    print(f'Fold: {fold+1}  macrof1: {score}')\n",
        "\n",
        "    report = classification_report(y_valid, y_valid_pred_class)\n",
        "    print(report)\n",
        "\n",
        "    results.append(result)\n",
        "\n",
        "# cv_score = np.mean(valid_scores)\n",
        "# print(f'CV: {cv_score}')"
      ],
      "metadata": {
        "colab": {
          "base_uri": "https://localhost:8080/"
        },
        "id": "A5EaSr5GM8gl",
        "outputId": "293fccb7-26b4-4bff-bf0f-01bec3f0a4c2"
      },
      "execution_count": null,
      "outputs": [
        {
          "output_type": "stream",
          "name": "stdout",
          "text": [
            "Fold: 1  macrof1: 0.38327035129437426\n",
            "              precision    recall  f1-score   support\n",
            "\n",
            "           0       0.24      0.25      0.25       707\n",
            "           1       0.81      0.77      0.79      3151\n",
            "           2       0.09      0.16      0.12       139\n",
            "\n",
            "    accuracy                           0.66      3997\n",
            "   macro avg       0.38      0.39      0.38      3997\n",
            "weighted avg       0.68      0.66      0.67      3997\n",
            "\n",
            "Fold: 2  macrof1: 0.3622365648271255\n",
            "              precision    recall  f1-score   support\n",
            "\n",
            "           0       0.21      0.26      0.23       707\n",
            "           1       0.81      0.74      0.77      3150\n",
            "           2       0.06      0.12      0.08       140\n",
            "\n",
            "    accuracy                           0.63      3997\n",
            "   macro avg       0.36      0.37      0.36      3997\n",
            "weighted avg       0.68      0.63      0.65      3997\n",
            "\n",
            "Fold: 3  macrof1: 0.3827998805737384\n",
            "              precision    recall  f1-score   support\n",
            "\n",
            "           0       0.25      0.24      0.25       707\n",
            "           1       0.81      0.77      0.79      3150\n",
            "           2       0.08      0.19      0.11       140\n",
            "\n",
            "    accuracy                           0.65      3997\n",
            "   macro avg       0.38      0.40      0.38      3997\n",
            "weighted avg       0.69      0.65      0.67      3997\n",
            "\n",
            "Fold: 4  macrof1: 0.37744050369089305\n",
            "              precision    recall  f1-score   support\n",
            "\n",
            "           0       0.23      0.26      0.25       707\n",
            "           1       0.81      0.76      0.78      3150\n",
            "           2       0.08      0.15      0.11       140\n",
            "\n",
            "    accuracy                           0.65      3997\n",
            "   macro avg       0.37      0.39      0.38      3997\n",
            "weighted avg       0.68      0.65      0.66      3997\n",
            "\n",
            "Fold: 5  macrof1: 0.36366494912797404\n",
            "              precision    recall  f1-score   support\n",
            "\n",
            "           0       0.22      0.22      0.22       707\n",
            "           1       0.80      0.79      0.80      3150\n",
            "           2       0.07      0.09      0.07       139\n",
            "\n",
            "    accuracy                           0.67      3996\n",
            "   macro avg       0.36      0.37      0.36      3996\n",
            "weighted avg       0.67      0.67      0.67      3996\n",
            "\n"
          ]
        }
      ]
    },
    {
      "cell_type": "code",
      "source": [
        "def get_dataset(train, test):\n",
        "    train_data = get_data(train)\n",
        "    test_data = get_data(test)\n",
        "\n",
        "    train_x = train_data.drop(['health'], axis=1)\n",
        "    y = train_data['health']\n",
        "\n",
        "    X = train_x\n",
        "    X_test = test_data\n",
        "\n",
        "    return X, y, X_test\n",
        "\n",
        "X_cat, y, X_test_cat = get_dataset(train, test)\n",
        "\n",
        "from scipy.misc import derivative\n",
        "\n",
        "categorical_features_indices = np.where(X_cat.dtypes==np.object)[0]\n",
        "\n",
        "SEED = 42 # シード値\n",
        "FOLDS = 4 # 分割数 K\n",
        "STOPPING_ROUNDS = 10 # アーリーストッピングのパラメータ\n",
        "NUM_BOOST_ROUND = 1000 # イテレーションの回数\n",
        "\n",
        "valid_scores, results, models, oof_preds_cat = [], [], [], np.zeros((X.shape[0], 1))\n",
        "\n",
        "\n",
        "kf = StratifiedKFold(n_splits=FOLDS, shuffle=True, random_state=SEED)\n",
        "for fold, (train_indices, valid_indices) in enumerate(kf.split(X_cat, y)):\n",
        "    X_train, X_valid = X_cat.iloc[train_indices].copy(), X_cat.iloc[valid_indices].copy()\n",
        "    y_train, y_valid = y.iloc[train_indices], y.iloc[valid_indices]\n",
        "    y_test_preds = pd.DataFrame()\n",
        "\n",
        "    train_pool = Pool(X_train, y_train, cat_features=categorical_features_indices)\n",
        "    valid_pool = Pool(X_valid, y_valid, cat_features=categorical_features_indices)\n",
        "\n",
        "    model_cat = CatBoostClassifier(\n",
        "        iterations=1000,\n",
        "        learning_rate=0.05,\n",
        "        depth=5,\n",
        "        # l2_leaf_reg=1,\n",
        "        class_weights=[3.9,1,16],\n",
        "        loss_function='MultiClass',\n",
        "        verbose=100\n",
        "    )\n",
        "\n",
        "    # モデルのトレーニング\n",
        "    model_cat.fit(train_pool,\n",
        "                eval_set=valid_pool,\n",
        "                early_stopping_rounds=10,\n",
        "                use_best_model=True)\n",
        "\n",
        "    # テストデータで予測\n",
        "    y_valid_pred = model_cat.predict(X_valid)\n",
        "    oof_preds_cat[valid_indices] = y_valid_pred\n",
        "    score = f1_score(y_valid, y_valid_pred, average='macro')\n",
        "    # wandb.log({\"macro-f1\": score})\n",
        "    valid_scores.append(score)\n",
        "    print(f'Fold: {fold+1}  macrof1: {score}')\n",
        "\n",
        "    report = classification_report(y_valid, y_valid_pred)\n",
        "    print(report)\n",
        "\n",
        "cv_score = np.mean(valid_scores)\n",
        "print(f'CV: {np.mean(cv_score)}')\n",
        "\n",
        "# wandb.finish()"
      ],
      "metadata": {
        "colab": {
          "base_uri": "https://localhost:8080/"
        },
        "id": "SY3YYvlcdwwt",
        "outputId": "920b3346-4f1a-4989-badb-2d83bc5422b6"
      },
      "execution_count": null,
      "outputs": [
        {
          "output_type": "stream",
          "name": "stderr",
          "text": [
            "<ipython-input-7-cda39b3c04f2>:17: DeprecationWarning: `np.object` is a deprecated alias for the builtin `object`. To silence this warning, use `object` by itself. Doing this will not modify any behavior and is safe. \n",
            "Deprecated in NumPy 1.20; for more details and guidance: https://numpy.org/devdocs/release/1.20.0-notes.html#deprecations\n",
            "  categorical_features_indices = np.where(X_cat.dtypes==np.object)[0]\n"
          ]
        },
        {
          "output_type": "stream",
          "name": "stdout",
          "text": [
            "0:\tlearn: 1.0968108\ttest: 1.0970968\tbest: 1.0970968 (0)\ttotal: 120ms\tremaining: 1m 59s\n",
            "100:\tlearn: 1.0447767\ttest: 1.0711323\tbest: 1.0711032 (99)\ttotal: 4.68s\tremaining: 41.6s\n",
            "Stopped by overfitting detector  (10 iterations wait)\n",
            "\n",
            "bestTest = 1.070526123\n",
            "bestIteration = 119\n",
            "\n",
            "Shrink model to first 120 iterations.\n",
            "Fold: 1  macrof1: 0.3710155672891546\n",
            "              precision    recall  f1-score   support\n",
            "\n",
            "           0       0.22      0.25      0.23       883\n",
            "           1       0.80      0.78      0.79      3938\n",
            "           2       0.09      0.09      0.09       175\n",
            "\n",
            "    accuracy                           0.66      4996\n",
            "   macro avg       0.37      0.37      0.37      4996\n",
            "weighted avg       0.68      0.66      0.67      4996\n",
            "\n",
            "0:\tlearn: 1.0963657\ttest: 1.0973606\tbest: 1.0973606 (0)\ttotal: 66.6ms\tremaining: 1m 6s\n",
            "100:\tlearn: 1.0429678\ttest: 1.0790946\tbest: 1.0787361 (93)\ttotal: 6.66s\tremaining: 59.2s\n",
            "Stopped by overfitting detector  (10 iterations wait)\n",
            "\n",
            "bestTest = 1.078736139\n",
            "bestIteration = 93\n",
            "\n",
            "Shrink model to first 94 iterations.\n",
            "Fold: 2  macrof1: 0.3636292411779744\n",
            "              precision    recall  f1-score   support\n",
            "\n",
            "           0       0.22      0.23      0.23       884\n",
            "           1       0.80      0.79      0.79      3938\n",
            "           2       0.06      0.08      0.07       174\n",
            "\n",
            "    accuracy                           0.66      4996\n",
            "   macro avg       0.36      0.37      0.36      4996\n",
            "weighted avg       0.67      0.66      0.67      4996\n",
            "\n",
            "0:\tlearn: 1.0970119\ttest: 1.0970752\tbest: 1.0970752 (0)\ttotal: 119ms\tremaining: 1m 58s\n",
            "100:\tlearn: 1.0476988\ttest: 1.0672368\tbest: 1.0669542 (99)\ttotal: 5s\tremaining: 44.5s\n",
            "Stopped by overfitting detector  (10 iterations wait)\n",
            "\n",
            "bestTest = 1.065949213\n",
            "bestIteration = 124\n",
            "\n",
            "Shrink model to first 125 iterations.\n",
            "Fold: 3  macrof1: 0.37494777362008397\n",
            "              precision    recall  f1-score   support\n",
            "\n",
            "           0       0.23      0.22      0.22       884\n",
            "           1       0.81      0.80      0.81      3938\n",
            "           2       0.08      0.11      0.10       174\n",
            "\n",
            "    accuracy                           0.68      4996\n",
            "   macro avg       0.37      0.38      0.37      4996\n",
            "weighted avg       0.68      0.68      0.68      4996\n",
            "\n",
            "0:\tlearn: 1.0965719\ttest: 1.0969548\tbest: 1.0969548 (0)\ttotal: 52.1ms\tremaining: 52.1s\n",
            "100:\tlearn: 1.0435351\ttest: 1.0720751\tbest: 1.0719395 (90)\ttotal: 4.84s\tremaining: 43.1s\n",
            "Stopped by overfitting detector  (10 iterations wait)\n",
            "\n",
            "bestTest = 1.071939548\n",
            "bestIteration = 90\n",
            "\n",
            "Shrink model to first 91 iterations.\n",
            "Fold: 4  macrof1: 0.3680918140004033\n",
            "              precision    recall  f1-score   support\n",
            "\n",
            "           0       0.23      0.22      0.23       884\n",
            "           1       0.80      0.82      0.81      3937\n",
            "           2       0.09      0.06      0.07       175\n",
            "\n",
            "    accuracy                           0.69      4996\n",
            "   macro avg       0.37      0.37      0.37      4996\n",
            "weighted avg       0.67      0.69      0.68      4996\n",
            "\n",
            "CV: 0.36942109902190406\n"
          ]
        }
      ]
    },
    {
      "cell_type": "code",
      "source": [
        "X, y, X_test = get_dataset(train, test)\n",
        "class_weights = {1:1, 0:3.8, 2:14.5}\n",
        "X['weight'] = y.apply(lambda x: class_weights[x])\n",
        "\n",
        "# スタッキング用特徴セット\n",
        "stacked_features = np.column_stack((oof_preds_lgb1, oof_preds_lgb2, oof_preds_cat))\n",
        "\n",
        "# StratifiedKFoldとパラメータ設定\n",
        "folds = 5\n",
        "kf = StratifiedKFold(n_splits=folds, shuffle=True, random_state=42)\n",
        "meta_scores = []\n",
        "\n",
        "meta_params = {\n",
        "    'objective': 'multiclass',\n",
        "    'num_class': 3,\n",
        "    'boosting': 'gbdt',\n",
        "    'metric': 'multi_logloss',\n",
        "    'learning_rate': 0.05,\n",
        "    'max_depth': 5,\n",
        "    'num_leaves': 10,\n",
        "    'early_stopping_round':10,\n",
        "    'verbose': -1\n",
        "}\n",
        "\n",
        "for train_index, test_index in kf.split(X, y):\n",
        "    X_train, X_test = stacked_features[train_index], stacked_features[test_index]\n",
        "    y_train, y_test = y[train_index], y[test_index]\n",
        "    train_weight = X.iloc[train_index]['weight']\n",
        "    test_weight = X.iloc[test_index]['weight']\n",
        "\n",
        "    # LightGBMデータセットの作成、重みを指定\n",
        "    lgb_train = lgb.Dataset(X_train, label=y_train, weight=train_weight)\n",
        "    lgb_valid = lgb.Dataset(X_test, label=y_test, weight=test_weight)\n",
        "\n",
        "    # モデルのトレーニング\n",
        "    model = lgb.train(\n",
        "        params=meta_params,\n",
        "        train_set=lgb_train,\n",
        "        valid_sets=lgb_valid,\n",
        "        num_boost_round=100\n",
        "    )\n",
        "\n",
        "    # 性能評価\n",
        "    predictions = model.predict(X_test, num_iteration=model.best_iteration)\n",
        "    predictions_classes = np.argmax(predictions, axis=1)\n",
        "    score = f1_score(y_test, predictions_classes, average='macro', sample_weight=test_weight)\n",
        "    meta_scores.append(score)\n",
        "\n",
        "    print(classification_report(y_test, predictions_classes))\n",
        "    score = f1_score(y_test, predictions_classes, average='macro')\n",
        "    print(f'macrof1: {score}')\n",
        "\n",
        "# 平均スコアの計算と報告\n",
        "average_score = np.mean(meta_scores)\n",
        "print(f'Average macro F1 score across all folds: {average_score}')\n"
      ],
      "metadata": {
        "colab": {
          "base_uri": "https://localhost:8080/"
        },
        "id": "esT2EQXLfUKp",
        "outputId": "85acf727-ad48-4bef-a78a-9e4cc202b220"
      },
      "execution_count": null,
      "outputs": [
        {
          "output_type": "stream",
          "name": "stdout",
          "text": [
            "              precision    recall  f1-score   support\n",
            "\n",
            "           0       0.24      0.27      0.25       707\n",
            "           1       0.81      0.75      0.78      3151\n",
            "           2       0.05      0.11      0.07       139\n",
            "\n",
            "    accuracy                           0.64      3997\n",
            "   macro avg       0.37      0.37      0.37      3997\n",
            "weighted avg       0.68      0.64      0.66      3997\n",
            "\n",
            "macrof1: 0.36578572075882093\n",
            "              precision    recall  f1-score   support\n",
            "\n",
            "           0       0.22      0.16      0.18       707\n",
            "           1       0.80      0.86      0.83      3150\n",
            "           2       0.02      0.01      0.02       140\n",
            "\n",
            "    accuracy                           0.71      3997\n",
            "   macro avg       0.35      0.34      0.34      3997\n",
            "weighted avg       0.67      0.71      0.69      3997\n",
            "\n",
            "macrof1: 0.34233515452455654\n",
            "              precision    recall  f1-score   support\n",
            "\n",
            "           0       0.24      0.26      0.25       707\n",
            "           1       0.81      0.75      0.78      3150\n",
            "           2       0.07      0.16      0.10       140\n",
            "\n",
            "    accuracy                           0.64      3997\n",
            "   macro avg       0.37      0.39      0.38      3997\n",
            "weighted avg       0.68      0.64      0.66      3997\n",
            "\n",
            "macrof1: 0.3755293860436031\n",
            "              precision    recall  f1-score   support\n",
            "\n",
            "           0       0.22      0.25      0.23       707\n",
            "           1       0.81      0.76      0.78      3150\n",
            "           2       0.08      0.14      0.10       140\n",
            "\n",
            "    accuracy                           0.65      3997\n",
            "   macro avg       0.37      0.38      0.37      3997\n",
            "weighted avg       0.68      0.65      0.66      3997\n",
            "\n",
            "macrof1: 0.37266287335740045\n",
            "              precision    recall  f1-score   support\n",
            "\n",
            "           0       0.20      0.26      0.22       707\n",
            "           1       0.80      0.72      0.76      3150\n",
            "           2       0.05      0.09      0.07       139\n",
            "\n",
            "    accuracy                           0.62      3996\n",
            "   macro avg       0.35      0.36      0.35      3996\n",
            "weighted avg       0.67      0.62      0.64      3996\n",
            "\n",
            "macrof1: 0.3515300046334351\n",
            "Average macro F1 score across all folds: 0.33197516551914985\n"
          ]
        }
      ]
    },
    {
      "cell_type": "code",
      "source": [
        "stacked_features = np.column_stack((oof_preds_lgb1, oof_preds_lgb2, oof_preds_cat))\n",
        "\n",
        "class_weights = {1:1, 0:3.901, 2:14}\n",
        "X['weight'] = y.apply(lambda x: class_weights[x])\n",
        "\n",
        "meta_params = {\n",
        "    'objective': 'multiclass',\n",
        "    'num_class': 3,\n",
        "    'boosting': 'gbdt',\n",
        "    'metric': 'multi_logloss',\n",
        "    'learning_rate': 0.05,\n",
        "    'max_depth': 5,\n",
        "    'num_leaves': 20\n",
        "}\n",
        "\n",
        "meta_lgb_train = lgb.Dataset(stacked_features,\n",
        "                             label=y,\n",
        "                             weight=X[\"weight\"])\n",
        "meta_model = lgb.train(\n",
        "    params=meta_params,\n",
        "    train_set=meta_lgb_train,\n",
        "    num_boost_round=20\n",
        ")\n",
        "\n",
        "# メタモデルの性能評価\n",
        "meta_predictions = meta_model.predict(stacked_features, num_iteration=meta_model.best_iteration)\n",
        "meta_predictions_classes = np.argmax(meta_predictions, axis=1)\n",
        "report = classification_report(y, meta_predictions_classes)\n",
        "print(report)\n",
        "score = f1_score(y, meta_predictions_classes, average='macro')\n",
        "print(f'macrof1: {score}')"
      ],
      "metadata": {
        "colab": {
          "base_uri": "https://localhost:8080/"
        },
        "id": "0lyNamQl-cTx",
        "outputId": "96123dab-5125-4676-d6a9-bc2704373572"
      },
      "execution_count": null,
      "outputs": [
        {
          "output_type": "stream",
          "name": "stdout",
          "text": [
            "[LightGBM] [Info] Auto-choosing row-wise multi-threading, the overhead of testing was 0.014580 seconds.\n",
            "You can set `force_row_wise=true` to remove the overhead.\n",
            "And if memory is not enough, you can set `force_col_wise=true`.\n",
            "[LightGBM] [Info] Total Bins 1533\n",
            "[LightGBM] [Info] Number of data points in the train set: 19984, number of used features: 7\n",
            "[LightGBM] [Info] Start training from score -1.047610\n",
            "[LightGBM] [Info] Start training from score -0.914652\n",
            "[LightGBM] [Info] Start training from score -1.392035\n",
            "              precision    recall  f1-score   support\n",
            "\n",
            "           0       0.26      0.29      0.27      3535\n",
            "           1       0.81      0.80      0.81     15751\n",
            "           2       0.16      0.14      0.15       698\n",
            "\n",
            "    accuracy                           0.68     19984\n",
            "   macro avg       0.41      0.41      0.41     19984\n",
            "weighted avg       0.69      0.68      0.69     19984\n",
            "\n",
            "macrof1: 0.40971011880997055\n"
          ]
        }
      ]
    },
    {
      "cell_type": "markdown",
      "source": [
        "## __予測__"
      ],
      "metadata": {
        "id": "dURqqQs-fA52"
      }
    },
    {
      "cell_type": "code",
      "source": [
        "# 仮想的なテストデータセット\n",
        "# X_test をテストデータとして仮定\n",
        "\n",
        "# 1層目のモデルでテストデータに対する予測を行う\n",
        "preds_lgbm1 = model_lgbm1.predict(X_test)\n",
        "preds_lgbm2 = model_lgbm2.predict(X_test)\n",
        "preds_cat = model_cat.predict(X_test_cat)\n",
        "#preds_catboost = model_catboost.predict_proba(X_test)\n",
        "\n",
        "# スタッキング用の特徴セットを作成\n",
        "test_stacked_features = np.column_stack((preds_lgbm1, preds_lgbm2, preds_cat)) #, preds_catboost))\n",
        "\n",
        "# 2層目のメタモデルで最終的な予測を行う\n",
        "final_predictions = meta_model.predict(test_stacked_features)\n",
        "series = pd.Series(final_predictions)\n",
        "series.value_counts()"
      ],
      "metadata": {
        "colab": {
          "base_uri": "https://localhost:8080/"
        },
        "id": "H3EkgwNWRCju",
        "outputId": "e4526d99-322e-4188-a4b5-22b1047a3388"
      },
      "execution_count": null,
      "outputs": [
        {
          "output_type": "execute_result",
          "data": {
            "text/plain": [
              "1    15225\n",
              "0     3830\n",
              "2      647\n",
              "dtype: int64"
            ]
          },
          "metadata": {},
          "execution_count": 17
        }
      ]
    },
    {
      "cell_type": "code",
      "source": [
        "def predicting(models, X_test):\n",
        "    y_test_preds = pd.DataFrame()\n",
        "    y_test_preds['id'] = test.index\n",
        "    preds_lgbm1 = model_lgbm1.predict(X_test)\n",
        "    preds_lgbm2 = model_lgbm2.predict(X_test)\n",
        "    preds_cat = model_cat.predict(X_test_cat)\n",
        "    test_stacked_features = np.column_stack((preds_lgbm1, preds_lgbm2, preds_cat)) #, preds_catboost))\n",
        "    y_test_preds['pred'] = meta_model.predict(test_stacked_features)\n",
        "\n",
        "    return y_test_preds\n",
        "\n",
        "df = predicting(models, X_test)\n",
        "df[['id', 'pred']].to_csv(DIR_NAME + f'../output/stacking_cat_cv{score.round(5)}.csv', header=None, index=None)\n",
        "print(score.round(5))"
      ],
      "metadata": {
        "colab": {
          "base_uri": "https://localhost:8080/"
        },
        "id": "COhJpcMfjnRs",
        "outputId": "2eee7864-3ee1-4348-c20e-5e84cb159893"
      },
      "execution_count": null,
      "outputs": [
        {
          "output_type": "stream",
          "name": "stdout",
          "text": [
            "0.37303\n"
          ]
        }
      ]
    },
    {
      "cell_type": "code",
      "execution_count": null,
      "metadata": {
        "colab": {
          "base_uri": "https://localhost:8080/",
          "height": 693
        },
        "id": "7s4a032kG2t2",
        "outputId": "79760ead-3766-47ad-8d31-d31459b0dfc0"
      },
      "outputs": [
        {
          "output_type": "stream",
          "name": "stdout",
          "text": [
            "1    15751\n",
            "0     3535\n",
            "2      698\n",
            "Name: health, dtype: int64 1    15225\n",
            "0     3830\n",
            "2      647\n",
            "Name: pred, dtype: int64\n"
          ]
        },
        {
          "output_type": "display_data",
          "data": {
            "text/plain": [
              "<Figure size 1000x600 with 1 Axes>"
            ],
            "image/png": "[encoded data removed]"
          },
          "metadata": {}
        }
      ],
      "source": [
        "df['train'] = y\n",
        "print(y.value_counts(), df['pred'].value_counts())\n",
        "\n",
        "plt.figure(figsize=(10, 6))\n",
        "plt.hist(df[['train', 'pred']], bins=40, edgecolor='black')\n",
        "plt.xlabel('Values')\n",
        "plt.ylabel('Frequency')\n",
        "plt.title('Distribution of Data')\n",
        "plt.show()"
      ]
    },
    {
      "cell_type": "markdown",
      "source": [
        "## __探索__"
      ],
      "metadata": {
        "id": "ueL7ktJfeGCo"
      }
    },
    {
      "cell_type": "code",
      "source": [
        "NUM_BOOST_ROUND = 1000 # イテレーションの回数\n",
        "\n",
        "def fit_lgbm(X, y, categorical_cols: list = None, params: dict = None, verbose: int = 50):\n",
        "    # パラメータがないときは、空の dict で置き換える\n",
        "    if params is None:\n",
        "        params = {}\n",
        "\n",
        "    models = []\n",
        "    n_records = len(X)\n",
        "    oof_pred = np.zeros((n_records,), dtype=np.float32)\n",
        "\n",
        "    kf = StratifiedKFold(n_splits=5, shuffle=True, random_state=42)\n",
        "    for fold, (train_indices, valid_indices) in enumerate(kf.split(X, y)):\n",
        "        X_train, X_valid = X.iloc[train_indices].copy(), X.iloc[valid_indices].copy()\n",
        "        y_train, y_valid = y.iloc[train_indices], y.iloc[valid_indices]\n",
        "\n",
        "        lgb_train = lgb.Dataset(\n",
        "            X_train.drop(\"weight\", axis=1),\n",
        "            y_train,\n",
        "            weight=X_train[\"weight\"]\n",
        "        )\n",
        "\n",
        "        lgb_valid = lgb.Dataset(\n",
        "            X_valid.drop(\"weight\", axis=1),\n",
        "            y_valid,\n",
        "            reference=lgb_train,\n",
        "            weight=X_valid[\"weight\"]\n",
        "        )\n",
        "\n",
        "        result = {}\n",
        "        model = lgb.train(\n",
        "            params=params,\n",
        "            train_set=lgb_train, # 学習データ\n",
        "            valid_sets=[lgb_train, lgb_valid], # 検証データ\n",
        "            valid_names=['Train', 'Valid'], # 学習経過で表示する名称\n",
        "            num_boost_round=NUM_BOOST_ROUND, # イテレーションの回数\n",
        "            #verbose_eval=False,# 出力を抑える\n",
        "            callbacks=[\n",
        "                lgb.early_stopping(stopping_rounds=10, verbose=False), # アーリーストッピング\n",
        "                lgb.callback.record_evaluation(result), # ログの記録\n",
        "            ],\n",
        "        )\n",
        "\n",
        "        # 検証データのスコア\n",
        "        y_valid_pred = model.predict(X_valid.drop(\"weight\", axis=1))\n",
        "        y_valid_pred = np.argmax(y_valid_pred, axis=1)\n",
        "        oof_pred[valid_indices] = y_valid_pred\n",
        "        score = f1_score(y_valid, y_valid_pred, average='macro')\n",
        "        models.append(model)\n",
        "        print(f'Fold: {fold+1}  macrof1: {score}')\n",
        "\n",
        "    score = f1_score(y, oof_pred, average='macro')\n",
        "    print(f\"FINISHI: Whole Score: {score:.4f}\")\n",
        "    return score, oof_pred, models\n",
        "\n",
        "\n",
        "def tuning(train_feat_df, train_df):\n",
        "    def objective(trial):\n",
        "        max_depth = trial.suggest_int(\"max_depth\", 4, 6)\n",
        "        num_leaves = trial.suggest_int(\"num_leaves\", 16, 64)\n",
        "\n",
        "        params = {\n",
        "            'objective': 'multiclass',\n",
        "            'num_class': 3,\n",
        "            'boosting': 'gbdt',\n",
        "            'metric': 'multi_logloss', # 評価指標\n",
        "            'learning_rate': 0.05,\n",
        "            'feature_fraction': 0.8,\n",
        "            'bagging_fraction': 0.8,\n",
        "            'bagging_freq': 1,\n",
        "            \"max_depth\": max_depth,\n",
        "            \"num_leaves\": num_leaves,\n",
        "            # \"importance_type\": \"gain\",\n",
        "            \"random_state\": 8,\n",
        "            'verbose': -1,\n",
        "            'early_stopping_round': 10,\n",
        "        }\n",
        "\n",
        "        score, _, _ = fit_lgbm(\n",
        "            X, y, categorical_cols=[], params=params, verbose=-1\n",
        "        )\n",
        "        return score\n",
        "\n",
        "    study = optuna.create_study(direction=\"maximize\")\n",
        "    study.optimize(objective, n_trials=100)\n",
        "    print(\"Number of finished trials:\", len(study.trials))\n",
        "    print(\"Best trial:\", study.best_trial.params)\n",
        "    return study.best_trial.params"
      ],
      "metadata": {
        "id": "7icwTnY9zFiL"
      },
      "execution_count": null,
      "outputs": []
    },
    {
      "cell_type": "code",
      "source": [
        "kf = StratifiedKFold(n_splits=5, shuffle=True, random_state=42)\n",
        "tuning(X, y)"
      ],
      "metadata": {
        "id": "Hk6pIN04zJxu",
        "colab": {
          "base_uri": "https://localhost:8080/"
        },
        "outputId": "5114993a-ac39-4d10-f08f-ed857b815434"
      },
      "execution_count": null,
      "outputs": [
        {
          "output_type": "stream",
          "name": "stderr",
          "text": [
            "[I 2024-01-04 01:29:44,227] A new study created in memory with name: no-name-2c2d01e5-0c36-494c-88e8-a3a74a116b59\n"
          ]
        },
        {
          "output_type": "stream",
          "name": "stdout",
          "text": [
            "Fold: 1  macrof1: 0.36165273715442164\n",
            "Fold: 2  macrof1: 0.35360087436224524\n",
            "Fold: 3  macrof1: 0.35952253010340085\n",
            "Fold: 4  macrof1: 0.38042114638897573\n"
          ]
        },
        {
          "output_type": "stream",
          "name": "stderr",
          "text": [
            "[I 2024-01-04 01:29:57,943] Trial 0 finished with value: 0.3636173468716218 and parameters: {'max_depth': 6, 'num_leaves': 41}. Best is trial 0 with value: 0.3636173468716218.\n"
          ]
        },
        {
          "output_type": "stream",
          "name": "stdout",
          "text": [
            "Fold: 5  macrof1: 0.358182599452223\n",
            "FINISHI: Whole Score: 0.3636\n",
            "Fold: 1  macrof1: 0.3634318902096501\n",
            "Fold: 2  macrof1: 0.35461631998711013\n",
            "Fold: 3  macrof1: 0.37001271762372\n",
            "Fold: 4  macrof1: 0.3799843868234373\n"
          ]
        },
        {
          "output_type": "stream",
          "name": "stderr",
          "text": [
            "[I 2024-01-04 01:30:00,822] Trial 1 finished with value: 0.3658970764432708 and parameters: {'max_depth': 6, 'num_leaves': 34}. Best is trial 1 with value: 0.3658970764432708.\n"
          ]
        },
        {
          "output_type": "stream",
          "name": "stdout",
          "text": [
            "Fold: 5  macrof1: 0.35689140214223364\n",
            "FINISHI: Whole Score: 0.3659\n",
            "Fold: 1  macrof1: 0.37675071959661904\n",
            "Fold: 2  macrof1: 0.35526529280733704\n",
            "Fold: 3  macrof1: 0.37238006360900716\n",
            "Fold: 4  macrof1: 0.3658431034763469\n"
          ]
        },
        {
          "output_type": "stream",
          "name": "stderr",
          "text": [
            "[I 2024-01-04 01:30:03,670] Trial 2 finished with value: 0.36681747255820696 and parameters: {'max_depth': 4, 'num_leaves': 26}. Best is trial 2 with value: 0.36681747255820696.\n"
          ]
        },
        {
          "output_type": "stream",
          "name": "stdout",
          "text": [
            "Fold: 5  macrof1: 0.3589056577420235\n",
            "FINISHI: Whole Score: 0.3668\n",
            "Fold: 1  macrof1: 0.37050575216188436\n",
            "Fold: 2  macrof1: 0.360697762957912\n",
            "Fold: 3  macrof1: 0.36469050461262764\n",
            "Fold: 4  macrof1: 0.37289320514473556\n"
          ]
        },
        {
          "output_type": "stream",
          "name": "stderr",
          "text": [
            "[I 2024-01-04 01:30:06,524] Trial 3 finished with value: 0.3663494090584339 and parameters: {'max_depth': 5, 'num_leaves': 49}. Best is trial 2 with value: 0.36681747255820696.\n"
          ]
        },
        {
          "output_type": "stream",
          "name": "stdout",
          "text": [
            "Fold: 5  macrof1: 0.358080199189655\n",
            "FINISHI: Whole Score: 0.3663\n",
            "Fold: 1  macrof1: 0.35815907329233365\n",
            "Fold: 2  macrof1: 0.3502823966778022\n",
            "Fold: 3  macrof1: 0.3722943538379993\n",
            "Fold: 4  macrof1: 0.38162913749743943\n"
          ]
        },
        {
          "output_type": "stream",
          "name": "stderr",
          "text": [
            "[I 2024-01-04 01:30:13,308] Trial 4 finished with value: 0.36631291036253266 and parameters: {'max_depth': 6, 'num_leaves': 51}. Best is trial 2 with value: 0.36681747255820696.\n"
          ]
        },
        {
          "output_type": "stream",
          "name": "stdout",
          "text": [
            "Fold: 5  macrof1: 0.36161007903262865\n",
            "FINISHI: Whole Score: 0.3663\n",
            "Fold: 1  macrof1: 0.368707172278187\n",
            "Fold: 2  macrof1: 0.3494233708720076\n",
            "Fold: 3  macrof1: 0.3783625181916343\n",
            "Fold: 4  macrof1: 0.3662368383759913\n"
          ]
        },
        {
          "output_type": "stream",
          "name": "stderr",
          "text": [
            "[I 2024-01-04 01:30:16,284] Trial 5 finished with value: 0.3650849943134114 and parameters: {'max_depth': 6, 'num_leaves': 25}. Best is trial 2 with value: 0.36681747255820696.\n"
          ]
        },
        {
          "output_type": "stream",
          "name": "stdout",
          "text": [
            "Fold: 5  macrof1: 0.3606949308370809\n",
            "FINISHI: Whole Score: 0.3651\n",
            "Fold: 1  macrof1: 0.36768929725141414\n",
            "Fold: 2  macrof1: 0.35273087720025753\n",
            "Fold: 3  macrof1: 0.3732566431653472\n",
            "Fold: 4  macrof1: 0.3754525192198939\n"
          ]
        },
        {
          "output_type": "stream",
          "name": "stderr",
          "text": [
            "[I 2024-01-04 01:30:19,317] Trial 6 finished with value: 0.3677418762179738 and parameters: {'max_depth': 6, 'num_leaves': 52}. Best is trial 6 with value: 0.3677418762179738.\n"
          ]
        },
        {
          "output_type": "stream",
          "name": "stdout",
          "text": [
            "Fold: 5  macrof1: 0.3617426133982686\n",
            "FINISHI: Whole Score: 0.3677\n",
            "Fold: 1  macrof1: 0.37675071959661904\n",
            "Fold: 2  macrof1: 0.35526529280733704\n",
            "Fold: 3  macrof1: 0.37238006360900716\n",
            "Fold: 4  macrof1: 0.3658431034763469\n"
          ]
        },
        {
          "output_type": "stream",
          "name": "stderr",
          "text": [
            "[I 2024-01-04 01:30:23,101] Trial 7 finished with value: 0.36681747255820696 and parameters: {'max_depth': 4, 'num_leaves': 24}. Best is trial 6 with value: 0.3677418762179738.\n"
          ]
        },
        {
          "output_type": "stream",
          "name": "stdout",
          "text": [
            "Fold: 5  macrof1: 0.3589056577420235\n",
            "FINISHI: Whole Score: 0.3668\n",
            "Fold: 1  macrof1: 0.3712264388136415\n",
            "Fold: 2  macrof1: 0.35142004625930934\n",
            "Fold: 3  macrof1: 0.3713953102909075\n",
            "Fold: 4  macrof1: 0.37660462657999716\n"
          ]
        },
        {
          "output_type": "stream",
          "name": "stderr",
          "text": [
            "[I 2024-01-04 01:30:29,255] Trial 8 finished with value: 0.3657579437829492 and parameters: {'max_depth': 6, 'num_leaves': 28}. Best is trial 6 with value: 0.3677418762179738.\n"
          ]
        },
        {
          "output_type": "stream",
          "name": "stdout",
          "text": [
            "Fold: 5  macrof1: 0.3513204949359796\n",
            "FINISHI: Whole Score: 0.3658\n",
            "Fold: 1  macrof1: 0.36368421825606306\n",
            "Fold: 2  macrof1: 0.3514252732610885\n",
            "Fold: 3  macrof1: 0.3783727421757772\n",
            "Fold: 4  macrof1: 0.3712251496247583\n"
          ]
        },
        {
          "output_type": "stream",
          "name": "stderr",
          "text": [
            "[I 2024-01-04 01:30:32,249] Trial 9 finished with value: 0.3660265728957617 and parameters: {'max_depth': 6, 'num_leaves': 27}. Best is trial 6 with value: 0.3677418762179738.\n"
          ]
        },
        {
          "output_type": "stream",
          "name": "stdout",
          "text": [
            "Fold: 5  macrof1: 0.35356715412564177\n",
            "FINISHI: Whole Score: 0.3660\n",
            "Fold: 1  macrof1: 0.37050575216188436\n",
            "Fold: 2  macrof1: 0.360697762957912\n",
            "Fold: 3  macrof1: 0.36469050461262764\n",
            "Fold: 4  macrof1: 0.37289320514473556\n"
          ]
        },
        {
          "output_type": "stream",
          "name": "stderr",
          "text": [
            "[I 2024-01-04 01:30:35,176] Trial 10 finished with value: 0.3663494090584339 and parameters: {'max_depth': 5, 'num_leaves': 63}. Best is trial 6 with value: 0.3677418762179738.\n"
          ]
        },
        {
          "output_type": "stream",
          "name": "stdout",
          "text": [
            "Fold: 5  macrof1: 0.358080199189655\n",
            "FINISHI: Whole Score: 0.3663\n",
            "Fold: 1  macrof1: 0.37675071959661904\n",
            "Fold: 2  macrof1: 0.35526529280733704\n",
            "Fold: 3  macrof1: 0.37238006360900716\n",
            "Fold: 4  macrof1: 0.3658431034763469\n"
          ]
        },
        {
          "output_type": "stream",
          "name": "stderr",
          "text": [
            "[I 2024-01-04 01:30:40,721] Trial 11 finished with value: 0.36681747255820696 and parameters: {'max_depth': 4, 'num_leaves': 58}. Best is trial 6 with value: 0.3677418762179738.\n"
          ]
        },
        {
          "output_type": "stream",
          "name": "stdout",
          "text": [
            "Fold: 5  macrof1: 0.3589056577420235\n",
            "FINISHI: Whole Score: 0.3668\n",
            "Fold: 1  macrof1: 0.37675071959661904\n",
            "Fold: 2  macrof1: 0.35526529280733704\n",
            "Fold: 3  macrof1: 0.37238006360900716\n",
            "Fold: 4  macrof1: 0.3658431034763469\n"
          ]
        },
        {
          "output_type": "stream",
          "name": "stderr",
          "text": [
            "[I 2024-01-04 01:30:45,116] Trial 12 finished with value: 0.36681747255820696 and parameters: {'max_depth': 4, 'num_leaves': 16}. Best is trial 6 with value: 0.3677418762179738.\n"
          ]
        },
        {
          "output_type": "stream",
          "name": "stdout",
          "text": [
            "Fold: 5  macrof1: 0.3589056577420235\n",
            "FINISHI: Whole Score: 0.3668\n",
            "Fold: 1  macrof1: 0.37050575216188436\n",
            "Fold: 2  macrof1: 0.360697762957912\n",
            "Fold: 3  macrof1: 0.36469050461262764\n",
            "Fold: 4  macrof1: 0.37289320514473556\n"
          ]
        },
        {
          "output_type": "stream",
          "name": "stderr",
          "text": [
            "[I 2024-01-04 01:30:48,038] Trial 13 finished with value: 0.3663494090584339 and parameters: {'max_depth': 5, 'num_leaves': 43}. Best is trial 6 with value: 0.3677418762179738.\n"
          ]
        },
        {
          "output_type": "stream",
          "name": "stdout",
          "text": [
            "Fold: 5  macrof1: 0.358080199189655\n",
            "FINISHI: Whole Score: 0.3663\n",
            "Fold: 1  macrof1: 0.37675071959661904\n",
            "Fold: 2  macrof1: 0.35526529280733704\n",
            "Fold: 3  macrof1: 0.37238006360900716\n",
            "Fold: 4  macrof1: 0.3658431034763469\n"
          ]
        },
        {
          "output_type": "stream",
          "name": "stderr",
          "text": [
            "[I 2024-01-04 01:30:50,891] Trial 14 finished with value: 0.36681747255820696 and parameters: {'max_depth': 4, 'num_leaves': 35}. Best is trial 6 with value: 0.3677418762179738.\n"
          ]
        },
        {
          "output_type": "stream",
          "name": "stdout",
          "text": [
            "Fold: 5  macrof1: 0.3589056577420235\n",
            "FINISHI: Whole Score: 0.3668\n",
            "Fold: 1  macrof1: 0.37050575216188436\n",
            "Fold: 2  macrof1: 0.360697762957912\n",
            "Fold: 3  macrof1: 0.36469050461262764\n",
            "Fold: 4  macrof1: 0.37289320514473556\n"
          ]
        },
        {
          "output_type": "stream",
          "name": "stderr",
          "text": [
            "[I 2024-01-04 01:30:57,541] Trial 15 finished with value: 0.3663494090584339 and parameters: {'max_depth': 5, 'num_leaves': 56}. Best is trial 6 with value: 0.3677418762179738.\n"
          ]
        },
        {
          "output_type": "stream",
          "name": "stdout",
          "text": [
            "Fold: 5  macrof1: 0.358080199189655\n",
            "FINISHI: Whole Score: 0.3663\n",
            "Fold: 1  macrof1: 0.3661575085066177\n",
            "Fold: 2  macrof1: 0.35776163130149025\n",
            "Fold: 3  macrof1: 0.3730094413837442\n",
            "Fold: 4  macrof1: 0.37138671907818543\n"
          ]
        },
        {
          "output_type": "stream",
          "name": "stderr",
          "text": [
            "[I 2024-01-04 01:31:00,534] Trial 16 finished with value: 0.3666556452515666 and parameters: {'max_depth': 5, 'num_leaves': 17}. Best is trial 6 with value: 0.3677418762179738.\n"
          ]
        },
        {
          "output_type": "stream",
          "name": "stdout",
          "text": [
            "Fold: 5  macrof1: 0.3583694453869215\n",
            "FINISHI: Whole Score: 0.3667\n",
            "Fold: 1  macrof1: 0.37675071959661904\n",
            "Fold: 2  macrof1: 0.35526529280733704\n",
            "Fold: 3  macrof1: 0.37238006360900716\n",
            "Fold: 4  macrof1: 0.3658431034763469\n"
          ]
        },
        {
          "output_type": "stream",
          "name": "stderr",
          "text": [
            "[I 2024-01-04 01:31:03,569] Trial 17 finished with value: 0.36681747255820696 and parameters: {'max_depth': 4, 'num_leaves': 46}. Best is trial 6 with value: 0.3677418762179738.\n"
          ]
        },
        {
          "output_type": "stream",
          "name": "stdout",
          "text": [
            "Fold: 5  macrof1: 0.3589056577420235\n",
            "FINISHI: Whole Score: 0.3668\n",
            "Fold: 1  macrof1: 0.37050575216188436\n",
            "Fold: 2  macrof1: 0.360697762957912\n",
            "Fold: 3  macrof1: 0.36469050461262764\n",
            "Fold: 4  macrof1: 0.37289320514473556\n"
          ]
        },
        {
          "output_type": "stream",
          "name": "stderr",
          "text": [
            "[I 2024-01-04 01:31:06,727] Trial 18 finished with value: 0.3663494090584339 and parameters: {'max_depth': 5, 'num_leaves': 35}. Best is trial 6 with value: 0.3677418762179738.\n"
          ]
        },
        {
          "output_type": "stream",
          "name": "stdout",
          "text": [
            "Fold: 5  macrof1: 0.358080199189655\n",
            "FINISHI: Whole Score: 0.3663\n",
            "Fold: 1  macrof1: 0.37050575216188436\n",
            "Fold: 2  macrof1: 0.360697762957912\n",
            "Fold: 3  macrof1: 0.36469050461262764\n",
            "Fold: 4  macrof1: 0.37289320514473556\n"
          ]
        },
        {
          "output_type": "stream",
          "name": "stderr",
          "text": [
            "[I 2024-01-04 01:31:14,544] Trial 19 finished with value: 0.3663494090584339 and parameters: {'max_depth': 5, 'num_leaves': 54}. Best is trial 6 with value: 0.3677418762179738.\n"
          ]
        },
        {
          "output_type": "stream",
          "name": "stdout",
          "text": [
            "Fold: 5  macrof1: 0.358080199189655\n",
            "FINISHI: Whole Score: 0.3663\n",
            "Fold: 1  macrof1: 0.37675071959661904\n",
            "Fold: 2  macrof1: 0.35526529280733704\n",
            "Fold: 3  macrof1: 0.37238006360900716\n",
            "Fold: 4  macrof1: 0.3658431034763469\n"
          ]
        },
        {
          "output_type": "stream",
          "name": "stderr",
          "text": [
            "[I 2024-01-04 01:31:17,602] Trial 20 finished with value: 0.36681747255820696 and parameters: {'max_depth': 4, 'num_leaves': 62}. Best is trial 6 with value: 0.3677418762179738.\n"
          ]
        },
        {
          "output_type": "stream",
          "name": "stdout",
          "text": [
            "Fold: 5  macrof1: 0.3589056577420235\n",
            "FINISHI: Whole Score: 0.3668\n",
            "Fold: 1  macrof1: 0.37675071959661904\n",
            "Fold: 2  macrof1: 0.35526529280733704\n",
            "Fold: 3  macrof1: 0.37238006360900716\n",
            "Fold: 4  macrof1: 0.3658431034763469\n"
          ]
        },
        {
          "output_type": "stream",
          "name": "stderr",
          "text": [
            "[I 2024-01-04 01:31:20,686] Trial 21 finished with value: 0.36681747255820696 and parameters: {'max_depth': 4, 'num_leaves': 20}. Best is trial 6 with value: 0.3677418762179738.\n"
          ]
        },
        {
          "output_type": "stream",
          "name": "stdout",
          "text": [
            "Fold: 5  macrof1: 0.3589056577420235\n",
            "FINISHI: Whole Score: 0.3668\n",
            "Fold: 1  macrof1: 0.37675071959661904\n",
            "Fold: 2  macrof1: 0.35526529280733704\n",
            "Fold: 3  macrof1: 0.37238006360900716\n",
            "Fold: 4  macrof1: 0.3658431034763469\n"
          ]
        },
        {
          "output_type": "stream",
          "name": "stderr",
          "text": [
            "[I 2024-01-04 01:31:25,454] Trial 22 finished with value: 0.36681747255820696 and parameters: {'max_depth': 4, 'num_leaves': 23}. Best is trial 6 with value: 0.3677418762179738.\n"
          ]
        },
        {
          "output_type": "stream",
          "name": "stdout",
          "text": [
            "Fold: 5  macrof1: 0.3589056577420235\n",
            "FINISHI: Whole Score: 0.3668\n",
            "Fold: 1  macrof1: 0.37675071959661904\n",
            "Fold: 2  macrof1: 0.35526529280733704\n",
            "Fold: 3  macrof1: 0.37238006360900716\n",
            "Fold: 4  macrof1: 0.3658431034763469\n"
          ]
        },
        {
          "output_type": "stream",
          "name": "stderr",
          "text": [
            "[I 2024-01-04 01:31:30,839] Trial 23 finished with value: 0.36681747255820696 and parameters: {'max_depth': 4, 'num_leaves': 31}. Best is trial 6 with value: 0.3677418762179738.\n"
          ]
        },
        {
          "output_type": "stream",
          "name": "stdout",
          "text": [
            "Fold: 5  macrof1: 0.3589056577420235\n",
            "FINISHI: Whole Score: 0.3668\n",
            "Fold: 1  macrof1: 0.37675071959661904\n",
            "Fold: 2  macrof1: 0.35526529280733704\n",
            "Fold: 3  macrof1: 0.37238006360900716\n",
            "Fold: 4  macrof1: 0.3658431034763469\n"
          ]
        },
        {
          "output_type": "stream",
          "name": "stderr",
          "text": [
            "[I 2024-01-04 01:31:33,955] Trial 24 finished with value: 0.36681747255820696 and parameters: {'max_depth': 4, 'num_leaves': 38}. Best is trial 6 with value: 0.3677418762179738.\n"
          ]
        },
        {
          "output_type": "stream",
          "name": "stdout",
          "text": [
            "Fold: 5  macrof1: 0.3589056577420235\n",
            "FINISHI: Whole Score: 0.3668\n",
            "Fold: 1  macrof1: 0.3712278072963618\n",
            "Fold: 2  macrof1: 0.3531160677415343\n",
            "Fold: 3  macrof1: 0.36970812199463116\n",
            "Fold: 4  macrof1: 0.3718433926512354\n"
          ]
        },
        {
          "output_type": "stream",
          "name": "stderr",
          "text": [
            "[I 2024-01-04 01:31:37,431] Trial 25 finished with value: 0.36691395983443714 and parameters: {'max_depth': 5, 'num_leaves': 23}. Best is trial 6 with value: 0.3677418762179738.\n"
          ]
        },
        {
          "output_type": "stream",
          "name": "stdout",
          "text": [
            "Fold: 5  macrof1: 0.36219543965457374\n",
            "FINISHI: Whole Score: 0.3669\n",
            "Fold: 1  macrof1: 0.37342556074117894\n",
            "Fold: 2  macrof1: 0.35504615869275985\n",
            "Fold: 3  macrof1: 0.36684969981693966\n",
            "Fold: 4  macrof1: 0.37289320514473556\n"
          ]
        },
        {
          "output_type": "stream",
          "name": "stderr",
          "text": [
            "[I 2024-01-04 01:31:46,386] Trial 26 finished with value: 0.3676636523008035 and parameters: {'max_depth': 5, 'num_leaves': 30}. Best is trial 6 with value: 0.3677418762179738.\n"
          ]
        },
        {
          "output_type": "stream",
          "name": "stdout",
          "text": [
            "Fold: 5  macrof1: 0.3657139245402057\n",
            "FINISHI: Whole Score: 0.3677\n",
            "Fold: 1  macrof1: 0.37342556074117894\n",
            "Fold: 2  macrof1: 0.35504615869275985\n",
            "Fold: 3  macrof1: 0.36684969981693966\n",
            "Fold: 4  macrof1: 0.37289320514473556\n"
          ]
        },
        {
          "output_type": "stream",
          "name": "stderr",
          "text": [
            "[I 2024-01-04 01:31:49,463] Trial 27 finished with value: 0.3676636523008035 and parameters: {'max_depth': 5, 'num_leaves': 30}. Best is trial 6 with value: 0.3677418762179738.\n"
          ]
        },
        {
          "output_type": "stream",
          "name": "stdout",
          "text": [
            "Fold: 5  macrof1: 0.3657139245402057\n",
            "FINISHI: Whole Score: 0.3677\n",
            "Fold: 1  macrof1: 0.373591149778073\n",
            "Fold: 2  macrof1: 0.360697762957912\n",
            "Fold: 3  macrof1: 0.36660719272633946\n",
            "Fold: 4  macrof1: 0.37289320514473556\n"
          ]
        },
        {
          "output_type": "stream",
          "name": "stderr",
          "text": [
            "[I 2024-01-04 01:31:52,375] Trial 28 finished with value: 0.3673938447026763 and parameters: {'max_depth': 5, 'num_leaves': 31}. Best is trial 6 with value: 0.3677418762179738.\n"
          ]
        },
        {
          "output_type": "stream",
          "name": "stdout",
          "text": [
            "Fold: 5  macrof1: 0.358080199189655\n",
            "FINISHI: Whole Score: 0.3674\n",
            "Fold: 1  macrof1: 0.36165273715442164\n",
            "Fold: 2  macrof1: 0.35360087436224524\n",
            "Fold: 3  macrof1: 0.35952253010340085\n",
            "Fold: 4  macrof1: 0.38042114638897573\n"
          ]
        },
        {
          "output_type": "stream",
          "name": "stderr",
          "text": [
            "[I 2024-01-04 01:31:58,718] Trial 29 finished with value: 0.3636173468716218 and parameters: {'max_depth': 6, 'num_leaves': 41}. Best is trial 6 with value: 0.3677418762179738.\n"
          ]
        },
        {
          "output_type": "stream",
          "name": "stdout",
          "text": [
            "Fold: 5  macrof1: 0.358182599452223\n",
            "FINISHI: Whole Score: 0.3636\n",
            "Fold: 1  macrof1: 0.37050575216188436\n",
            "Fold: 2  macrof1: 0.360697762957912\n",
            "Fold: 3  macrof1: 0.36469050461262764\n",
            "Fold: 4  macrof1: 0.37289320514473556\n"
          ]
        },
        {
          "output_type": "stream",
          "name": "stderr",
          "text": [
            "[I 2024-01-04 01:32:02,125] Trial 30 finished with value: 0.3663494090584339 and parameters: {'max_depth': 5, 'num_leaves': 38}. Best is trial 6 with value: 0.3677418762179738.\n"
          ]
        },
        {
          "output_type": "stream",
          "name": "stdout",
          "text": [
            "Fold: 5  macrof1: 0.358080199189655\n",
            "FINISHI: Whole Score: 0.3663\n",
            "Fold: 1  macrof1: 0.373591149778073\n",
            "Fold: 2  macrof1: 0.360697762957912\n",
            "Fold: 3  macrof1: 0.36660719272633946\n",
            "Fold: 4  macrof1: 0.37289320514473556\n"
          ]
        },
        {
          "output_type": "stream",
          "name": "stderr",
          "text": [
            "[I 2024-01-04 01:32:05,296] Trial 31 finished with value: 0.3673938447026763 and parameters: {'max_depth': 5, 'num_leaves': 31}. Best is trial 6 with value: 0.3677418762179738.\n"
          ]
        },
        {
          "output_type": "stream",
          "name": "stdout",
          "text": [
            "Fold: 5  macrof1: 0.358080199189655\n",
            "FINISHI: Whole Score: 0.3674\n",
            "Fold: 1  macrof1: 0.37050575216188436\n",
            "Fold: 2  macrof1: 0.360697762957912\n",
            "Fold: 3  macrof1: 0.36469050461262764\n",
            "Fold: 4  macrof1: 0.37289320514473556\n"
          ]
        },
        {
          "output_type": "stream",
          "name": "stderr",
          "text": [
            "[I 2024-01-04 01:32:08,445] Trial 32 finished with value: 0.3663494090584339 and parameters: {'max_depth': 5, 'num_leaves': 32}. Best is trial 6 with value: 0.3677418762179738.\n"
          ]
        },
        {
          "output_type": "stream",
          "name": "stdout",
          "text": [
            "Fold: 5  macrof1: 0.358080199189655\n",
            "FINISHI: Whole Score: 0.3663\n",
            "Fold: 1  macrof1: 0.37197433830215315\n",
            "Fold: 2  macrof1: 0.35981257342485434\n",
            "Fold: 3  macrof1: 0.3676992739518299\n",
            "Fold: 4  macrof1: 0.3754069752005875\n"
          ]
        },
        {
          "output_type": "stream",
          "name": "stderr",
          "text": [
            "[I 2024-01-04 01:32:15,773] Trial 33 finished with value: 0.3670425594847109 and parameters: {'max_depth': 5, 'num_leaves': 28}. Best is trial 6 with value: 0.3677418762179738.\n"
          ]
        },
        {
          "output_type": "stream",
          "name": "stdout",
          "text": [
            "Fold: 5  macrof1: 0.35459999905701606\n",
            "FINISHI: Whole Score: 0.3670\n",
            "Fold: 1  macrof1: 0.37050575216188436\n",
            "Fold: 2  macrof1: 0.360697762957912\n",
            "Fold: 3  macrof1: 0.36469050461262764\n",
            "Fold: 4  macrof1: 0.37289320514473556\n"
          ]
        },
        {
          "output_type": "stream",
          "name": "stderr",
          "text": [
            "[I 2024-01-04 01:32:18,880] Trial 34 finished with value: 0.3663494090584339 and parameters: {'max_depth': 5, 'num_leaves': 45}. Best is trial 6 with value: 0.3677418762179738.\n"
          ]
        },
        {
          "output_type": "stream",
          "name": "stdout",
          "text": [
            "Fold: 5  macrof1: 0.358080199189655\n",
            "FINISHI: Whole Score: 0.3663\n",
            "Fold: 1  macrof1: 0.36330156616947956\n",
            "Fold: 2  macrof1: 0.35372248759676866\n",
            "Fold: 3  macrof1: 0.3713717239981655\n",
            "Fold: 4  macrof1: 0.3814748518623042\n"
          ]
        },
        {
          "output_type": "stream",
          "name": "stderr",
          "text": [
            "[I 2024-01-04 01:32:21,958] Trial 35 finished with value: 0.3667625357012933 and parameters: {'max_depth': 6, 'num_leaves': 36}. Best is trial 6 with value: 0.3677418762179738.\n"
          ]
        },
        {
          "output_type": "stream",
          "name": "stdout",
          "text": [
            "Fold: 5  macrof1: 0.35655387564101254\n",
            "FINISHI: Whole Score: 0.3668\n",
            "Fold: 1  macrof1: 0.37342556074117894\n",
            "Fold: 2  macrof1: 0.35504615869275985\n",
            "Fold: 3  macrof1: 0.36684969981693966\n",
            "Fold: 4  macrof1: 0.37289320514473556\n"
          ]
        },
        {
          "output_type": "stream",
          "name": "stderr",
          "text": [
            "[I 2024-01-04 01:32:24,902] Trial 36 finished with value: 0.3676636523008035 and parameters: {'max_depth': 5, 'num_leaves': 30}. Best is trial 6 with value: 0.3677418762179738.\n"
          ]
        },
        {
          "output_type": "stream",
          "name": "stdout",
          "text": [
            "Fold: 5  macrof1: 0.3657139245402057\n",
            "FINISHI: Whole Score: 0.3677\n",
            "Fold: 1  macrof1: 0.3652168519187677\n",
            "Fold: 2  macrof1: 0.3498328818891592\n",
            "Fold: 3  macrof1: 0.3719958200875077\n",
            "Fold: 4  macrof1: 0.3735729773990033\n"
          ]
        },
        {
          "output_type": "stream",
          "name": "stderr",
          "text": [
            "[I 2024-01-04 01:32:32,191] Trial 37 finished with value: 0.36438930082608517 and parameters: {'max_depth': 6, 'num_leaves': 49}. Best is trial 6 with value: 0.3677418762179738.\n"
          ]
        },
        {
          "output_type": "stream",
          "name": "stdout",
          "text": [
            "Fold: 5  macrof1: 0.35411784654563894\n",
            "FINISHI: Whole Score: 0.3644\n",
            "Fold: 1  macrof1: 0.36796973171069763\n",
            "Fold: 2  macrof1: 0.3602454604813589\n",
            "Fold: 3  macrof1: 0.3674797674415784\n",
            "Fold: 4  macrof1: 0.3735929573211674\n"
          ]
        },
        {
          "output_type": "stream",
          "name": "stderr",
          "text": [
            "[I 2024-01-04 01:32:35,300] Trial 38 finished with value: 0.3667029490725698 and parameters: {'max_depth': 5, 'num_leaves': 21}. Best is trial 6 with value: 0.3677418762179738.\n"
          ]
        },
        {
          "output_type": "stream",
          "name": "stdout",
          "text": [
            "Fold: 5  macrof1: 0.35902747131436685\n",
            "FINISHI: Whole Score: 0.3667\n",
            "Fold: 1  macrof1: 0.36790297683638745\n",
            "Fold: 2  macrof1: 0.3534789837115433\n",
            "Fold: 3  macrof1: 0.3698153771995716\n",
            "Fold: 4  macrof1: 0.3815887466969303\n"
          ]
        },
        {
          "output_type": "stream",
          "name": "stderr",
          "text": [
            "[I 2024-01-04 01:32:38,409] Trial 39 finished with value: 0.36664747859513813 and parameters: {'max_depth': 6, 'num_leaves': 39}. Best is trial 6 with value: 0.3677418762179738.\n"
          ]
        },
        {
          "output_type": "stream",
          "name": "stdout",
          "text": [
            "Fold: 5  macrof1: 0.3530086725941837\n",
            "FINISHI: Whole Score: 0.3666\n",
            "Fold: 1  macrof1: 0.37131063043045853\n",
            "Fold: 2  macrof1: 0.35491103937407104\n",
            "Fold: 3  macrof1: 0.370047938234688\n",
            "Fold: 4  macrof1: 0.37358216277776374\n"
          ]
        },
        {
          "output_type": "stream",
          "name": "stderr",
          "text": [
            "[I 2024-01-04 01:32:42,995] Trial 40 finished with value: 0.3662789127568935 and parameters: {'max_depth': 6, 'num_leaves': 29}. Best is trial 6 with value: 0.3677418762179738.\n"
          ]
        },
        {
          "output_type": "stream",
          "name": "stdout",
          "text": [
            "Fold: 5  macrof1: 0.3544861178172512\n",
            "FINISHI: Whole Score: 0.3663\n",
            "Fold: 1  macrof1: 0.37050575216188436\n",
            "Fold: 2  macrof1: 0.360697762957912\n",
            "Fold: 3  macrof1: 0.36469050461262764\n",
            "Fold: 4  macrof1: 0.37289320514473556\n"
          ]
        },
        {
          "output_type": "stream",
          "name": "stderr",
          "text": [
            "[I 2024-01-04 01:32:48,154] Trial 41 finished with value: 0.3663494090584339 and parameters: {'max_depth': 5, 'num_leaves': 32}. Best is trial 6 with value: 0.3677418762179738.\n"
          ]
        },
        {
          "output_type": "stream",
          "name": "stdout",
          "text": [
            "Fold: 5  macrof1: 0.358080199189655\n",
            "FINISHI: Whole Score: 0.3663\n",
            "Fold: 1  macrof1: 0.36799413467088593\n",
            "Fold: 2  macrof1: 0.3561065027032489\n",
            "Fold: 3  macrof1: 0.3730016086705243\n",
            "Fold: 4  macrof1: 0.37801399319409307\n"
          ]
        },
        {
          "output_type": "stream",
          "name": "stderr",
          "text": [
            "[I 2024-01-04 01:32:51,310] Trial 42 finished with value: 0.36789668749224574 and parameters: {'max_depth': 5, 'num_leaves': 26}. Best is trial 42 with value: 0.36789668749224574.\n"
          ]
        },
        {
          "output_type": "stream",
          "name": "stdout",
          "text": [
            "Fold: 5  macrof1: 0.3616764679203068\n",
            "FINISHI: Whole Score: 0.3679\n",
            "Fold: 1  macrof1: 0.36799413467088593\n",
            "Fold: 2  macrof1: 0.3561065027032489\n",
            "Fold: 3  macrof1: 0.3730016086705243\n",
            "Fold: 4  macrof1: 0.37801399319409307\n"
          ]
        },
        {
          "output_type": "stream",
          "name": "stderr",
          "text": [
            "[I 2024-01-04 01:32:54,616] Trial 43 finished with value: 0.36789668749224574 and parameters: {'max_depth': 5, 'num_leaves': 26}. Best is trial 42 with value: 0.36789668749224574.\n"
          ]
        },
        {
          "output_type": "stream",
          "name": "stdout",
          "text": [
            "Fold: 5  macrof1: 0.3616764679203068\n",
            "FINISHI: Whole Score: 0.3679\n",
            "Fold: 1  macrof1: 0.36799413467088593\n",
            "Fold: 2  macrof1: 0.3561065027032489\n",
            "Fold: 3  macrof1: 0.3730016086705243\n",
            "Fold: 4  macrof1: 0.37801399319409307\n"
          ]
        },
        {
          "output_type": "stream",
          "name": "stderr",
          "text": [
            "[I 2024-01-04 01:33:01,946] Trial 44 finished with value: 0.36789668749224574 and parameters: {'max_depth': 5, 'num_leaves': 26}. Best is trial 42 with value: 0.36789668749224574.\n"
          ]
        },
        {
          "output_type": "stream",
          "name": "stdout",
          "text": [
            "Fold: 5  macrof1: 0.3616764679203068\n",
            "FINISHI: Whole Score: 0.3679\n",
            "Fold: 1  macrof1: 0.36799413467088593\n",
            "Fold: 2  macrof1: 0.3561065027032489\n",
            "Fold: 3  macrof1: 0.3730016086705243\n",
            "Fold: 4  macrof1: 0.37801399319409307\n"
          ]
        },
        {
          "output_type": "stream",
          "name": "stderr",
          "text": [
            "[I 2024-01-04 01:33:05,217] Trial 45 finished with value: 0.36789668749224574 and parameters: {'max_depth': 5, 'num_leaves': 26}. Best is trial 42 with value: 0.36789668749224574.\n"
          ]
        },
        {
          "output_type": "stream",
          "name": "stdout",
          "text": [
            "Fold: 5  macrof1: 0.3616764679203068\n",
            "FINISHI: Whole Score: 0.3679\n",
            "Fold: 1  macrof1: 0.36796973171069763\n",
            "Fold: 2  macrof1: 0.3602454604813589\n",
            "Fold: 3  macrof1: 0.3674797674415784\n",
            "Fold: 4  macrof1: 0.3735929573211674\n"
          ]
        },
        {
          "output_type": "stream",
          "name": "stderr",
          "text": [
            "[I 2024-01-04 01:33:08,231] Trial 46 finished with value: 0.3667029490725698 and parameters: {'max_depth': 5, 'num_leaves': 21}. Best is trial 42 with value: 0.36789668749224574.\n"
          ]
        },
        {
          "output_type": "stream",
          "name": "stdout",
          "text": [
            "Fold: 5  macrof1: 0.35902747131436685\n",
            "FINISHI: Whole Score: 0.3667\n",
            "Fold: 1  macrof1: 0.36799413467088593\n",
            "Fold: 2  macrof1: 0.3561065027032489\n",
            "Fold: 3  macrof1: 0.3730016086705243\n",
            "Fold: 4  macrof1: 0.37801399319409307\n"
          ]
        },
        {
          "output_type": "stream",
          "name": "stderr",
          "text": [
            "[I 2024-01-04 01:33:11,651] Trial 47 finished with value: 0.36789668749224574 and parameters: {'max_depth': 5, 'num_leaves': 26}. Best is trial 42 with value: 0.36789668749224574.\n"
          ]
        },
        {
          "output_type": "stream",
          "name": "stdout",
          "text": [
            "Fold: 5  macrof1: 0.3616764679203068\n",
            "FINISHI: Whole Score: 0.3679\n",
            "Fold: 1  macrof1: 0.36799413467088593\n",
            "Fold: 2  macrof1: 0.3561065027032489\n",
            "Fold: 3  macrof1: 0.3730016086705243\n",
            "Fold: 4  macrof1: 0.37801399319409307\n"
          ]
        },
        {
          "output_type": "stream",
          "name": "stderr",
          "text": [
            "[I 2024-01-04 01:33:18,703] Trial 48 finished with value: 0.36789668749224574 and parameters: {'max_depth': 5, 'num_leaves': 26}. Best is trial 42 with value: 0.36789668749224574.\n"
          ]
        },
        {
          "output_type": "stream",
          "name": "stdout",
          "text": [
            "Fold: 5  macrof1: 0.3616764679203068\n",
            "FINISHI: Whole Score: 0.3679\n",
            "Fold: 1  macrof1: 0.3664349494162369\n",
            "Fold: 2  macrof1: 0.3553905253382166\n",
            "Fold: 3  macrof1: 0.372341284170617\n",
            "Fold: 4  macrof1: 0.36796845833021125\n"
          ]
        },
        {
          "output_type": "stream",
          "name": "stderr",
          "text": [
            "[I 2024-01-04 01:33:21,789] Trial 49 finished with value: 0.3672092729605975 and parameters: {'max_depth': 5, 'num_leaves': 18}. Best is trial 42 with value: 0.36789668749224574.\n"
          ]
        },
        {
          "output_type": "stream",
          "name": "stdout",
          "text": [
            "Fold: 5  macrof1: 0.3636594592871672\n",
            "FINISHI: Whole Score: 0.3672\n",
            "Fold: 1  macrof1: 0.373612586929611\n",
            "Fold: 2  macrof1: 0.35638844528353847\n",
            "Fold: 3  macrof1: 0.3658263208216786\n",
            "Fold: 4  macrof1: 0.37366032164321705\n"
          ]
        },
        {
          "output_type": "stream",
          "name": "stderr",
          "text": [
            "[I 2024-01-04 01:33:24,740] Trial 50 finished with value: 0.36604499350163416 and parameters: {'max_depth': 5, 'num_leaves': 25}. Best is trial 42 with value: 0.36789668749224574.\n"
          ]
        },
        {
          "output_type": "stream",
          "name": "stdout",
          "text": [
            "Fold: 5  macrof1: 0.3567927907908028\n",
            "FINISHI: Whole Score: 0.3660\n",
            "Fold: 1  macrof1: 0.373612586929611\n",
            "Fold: 2  macrof1: 0.35638844528353847\n",
            "Fold: 3  macrof1: 0.3658263208216786\n",
            "Fold: 4  macrof1: 0.37366032164321705\n"
          ]
        },
        {
          "output_type": "stream",
          "name": "stderr",
          "text": [
            "[I 2024-01-04 01:33:29,847] Trial 51 finished with value: 0.36604499350163416 and parameters: {'max_depth': 5, 'num_leaves': 25}. Best is trial 42 with value: 0.36789668749224574.\n"
          ]
        },
        {
          "output_type": "stream",
          "name": "stdout",
          "text": [
            "Fold: 5  macrof1: 0.3567927907908028\n",
            "FINISHI: Whole Score: 0.3660\n",
            "Fold: 1  macrof1: 0.36799413467088593\n",
            "Fold: 2  macrof1: 0.3561065027032489\n",
            "Fold: 3  macrof1: 0.3730016086705243\n",
            "Fold: 4  macrof1: 0.37801399319409307\n"
          ]
        },
        {
          "output_type": "stream",
          "name": "stderr",
          "text": [
            "[I 2024-01-04 01:33:34,730] Trial 52 finished with value: 0.36789668749224574 and parameters: {'max_depth': 5, 'num_leaves': 26}. Best is trial 42 with value: 0.36789668749224574.\n"
          ]
        },
        {
          "output_type": "stream",
          "name": "stdout",
          "text": [
            "Fold: 5  macrof1: 0.3616764679203068\n",
            "FINISHI: Whole Score: 0.3679\n",
            "Fold: 1  macrof1: 0.3716029875422872\n",
            "Fold: 2  macrof1: 0.35354246138417617\n",
            "Fold: 3  macrof1: 0.3697024266226183\n",
            "Fold: 4  macrof1: 0.37490401815765045\n"
          ]
        },
        {
          "output_type": "stream",
          "name": "stderr",
          "text": [
            "[I 2024-01-04 01:33:37,628] Trial 53 finished with value: 0.3676396186536654 and parameters: {'max_depth': 5, 'num_leaves': 27}. Best is trial 42 with value: 0.36789668749224574.\n"
          ]
        },
        {
          "output_type": "stream",
          "name": "stdout",
          "text": [
            "Fold: 5  macrof1: 0.36181778289684846\n",
            "FINISHI: Whole Score: 0.3676\n",
            "Fold: 1  macrof1: 0.3712278072963618\n",
            "Fold: 2  macrof1: 0.3531160677415343\n",
            "Fold: 3  macrof1: 0.36970812199463116\n",
            "Fold: 4  macrof1: 0.3718433926512354\n"
          ]
        },
        {
          "output_type": "stream",
          "name": "stderr",
          "text": [
            "[I 2024-01-04 01:33:40,375] Trial 54 finished with value: 0.36691395983443714 and parameters: {'max_depth': 5, 'num_leaves': 23}. Best is trial 42 with value: 0.36789668749224574.\n"
          ]
        },
        {
          "output_type": "stream",
          "name": "stdout",
          "text": [
            "Fold: 5  macrof1: 0.36219543965457374\n",
            "FINISHI: Whole Score: 0.3669\n",
            "Fold: 1  macrof1: 0.3716029875422872\n",
            "Fold: 2  macrof1: 0.35354246138417617\n",
            "Fold: 3  macrof1: 0.3697024266226183\n",
            "Fold: 4  macrof1: 0.37490401815765045\n"
          ]
        },
        {
          "output_type": "stream",
          "name": "stderr",
          "text": [
            "[I 2024-01-04 01:33:47,079] Trial 55 finished with value: 0.3676396186536654 and parameters: {'max_depth': 5, 'num_leaves': 27}. Best is trial 42 with value: 0.36789668749224574.\n"
          ]
        },
        {
          "output_type": "stream",
          "name": "stdout",
          "text": [
            "Fold: 5  macrof1: 0.36181778289684846\n",
            "FINISHI: Whole Score: 0.3676\n",
            "Fold: 1  macrof1: 0.37345812294488123\n",
            "Fold: 2  macrof1: 0.3539693759123331\n",
            "Fold: 3  macrof1: 0.36272750023469014\n",
            "Fold: 4  macrof1: 0.36860474731890874\n"
          ]
        },
        {
          "output_type": "stream",
          "name": "stderr",
          "text": [
            "[I 2024-01-04 01:33:49,984] Trial 56 finished with value: 0.3645463219283341 and parameters: {'max_depth': 5, 'num_leaves': 19}. Best is trial 42 with value: 0.36789668749224574.\n"
          ]
        },
        {
          "output_type": "stream",
          "name": "stdout",
          "text": [
            "Fold: 5  macrof1: 0.3609322430328256\n",
            "FINISHI: Whole Score: 0.3645\n",
            "Fold: 1  macrof1: 0.3637630279730694\n",
            "Fold: 2  macrof1: 0.3533474572367377\n",
            "Fold: 3  macrof1: 0.3713859984700542\n",
            "Fold: 4  macrof1: 0.3724246765121389\n"
          ]
        },
        {
          "output_type": "stream",
          "name": "stderr",
          "text": [
            "[I 2024-01-04 01:33:52,991] Trial 57 finished with value: 0.3661819024343866 and parameters: {'max_depth': 5, 'num_leaves': 24}. Best is trial 42 with value: 0.36789668749224574.\n"
          ]
        },
        {
          "output_type": "stream",
          "name": "stdout",
          "text": [
            "Fold: 5  macrof1: 0.3672196829243866\n",
            "FINISHI: Whole Score: 0.3662\n",
            "Fold: 1  macrof1: 0.37050575216188436\n",
            "Fold: 2  macrof1: 0.360697762957912\n",
            "Fold: 3  macrof1: 0.36469050461262764\n",
            "Fold: 4  macrof1: 0.37289320514473556\n"
          ]
        },
        {
          "output_type": "stream",
          "name": "stderr",
          "text": [
            "[I 2024-01-04 01:33:56,007] Trial 58 finished with value: 0.3663494090584339 and parameters: {'max_depth': 5, 'num_leaves': 33}. Best is trial 42 with value: 0.36789668749224574.\n"
          ]
        },
        {
          "output_type": "stream",
          "name": "stdout",
          "text": [
            "Fold: 5  macrof1: 0.358080199189655\n",
            "FINISHI: Whole Score: 0.3663\n",
            "Fold: 1  macrof1: 0.36796973171069763\n",
            "Fold: 2  macrof1: 0.3602454604813589\n",
            "Fold: 3  macrof1: 0.3674797674415784\n",
            "Fold: 4  macrof1: 0.3735929573211674\n"
          ]
        },
        {
          "output_type": "stream",
          "name": "stderr",
          "text": [
            "[I 2024-01-04 01:34:02,708] Trial 59 finished with value: 0.3667029490725698 and parameters: {'max_depth': 5, 'num_leaves': 21}. Best is trial 42 with value: 0.36789668749224574.\n"
          ]
        },
        {
          "output_type": "stream",
          "name": "stdout",
          "text": [
            "Fold: 5  macrof1: 0.35902747131436685\n",
            "FINISHI: Whole Score: 0.3667\n",
            "Fold: 1  macrof1: 0.37392822607380266\n",
            "Fold: 2  macrof1: 0.36223892180231854\n",
            "Fold: 3  macrof1: 0.37015374777839044\n",
            "Fold: 4  macrof1: 0.36848066846690264\n"
          ]
        },
        {
          "output_type": "stream",
          "name": "stderr",
          "text": [
            "[I 2024-01-04 01:34:05,620] Trial 60 finished with value: 0.3679773876525651 and parameters: {'max_depth': 5, 'num_leaves': 16}. Best is trial 60 with value: 0.3679773876525651.\n"
          ]
        },
        {
          "output_type": "stream",
          "name": "stdout",
          "text": [
            "Fold: 5  macrof1: 0.36057037905558703\n",
            "FINISHI: Whole Score: 0.3680\n",
            "Fold: 1  macrof1: 0.3753106425483299\n",
            "Fold: 2  macrof1: 0.35592859864660303\n",
            "Fold: 3  macrof1: 0.3706792275873687\n",
            "Fold: 4  macrof1: 0.3764366309951607\n"
          ]
        },
        {
          "output_type": "stream",
          "name": "stderr",
          "text": [
            "[I 2024-01-04 01:34:08,541] Trial 61 finished with value: 0.36895282260635914 and parameters: {'max_depth': 5, 'num_leaves': 22}. Best is trial 61 with value: 0.36895282260635914.\n"
          ]
        },
        {
          "output_type": "stream",
          "name": "stdout",
          "text": [
            "Fold: 5  macrof1: 0.3639688536352578\n",
            "FINISHI: Whole Score: 0.3690\n",
            "Fold: 1  macrof1: 0.37392822607380266\n",
            "Fold: 2  macrof1: 0.36223892180231854\n",
            "Fold: 3  macrof1: 0.37015374777839044\n",
            "Fold: 4  macrof1: 0.36848066846690264\n"
          ]
        },
        {
          "output_type": "stream",
          "name": "stderr",
          "text": [
            "[I 2024-01-04 01:34:11,679] Trial 62 finished with value: 0.3679773876525651 and parameters: {'max_depth': 5, 'num_leaves': 16}. Best is trial 61 with value: 0.36895282260635914.\n"
          ]
        },
        {
          "output_type": "stream",
          "name": "stdout",
          "text": [
            "Fold: 5  macrof1: 0.36057037905558703\n",
            "FINISHI: Whole Score: 0.3680\n",
            "Fold: 1  macrof1: 0.37392822607380266\n",
            "Fold: 2  macrof1: 0.36223892180231854\n",
            "Fold: 3  macrof1: 0.37015374777839044\n",
            "Fold: 4  macrof1: 0.36848066846690264\n"
          ]
        },
        {
          "output_type": "stream",
          "name": "stderr",
          "text": [
            "[I 2024-01-04 01:34:18,849] Trial 63 finished with value: 0.3679773876525651 and parameters: {'max_depth': 5, 'num_leaves': 16}. Best is trial 61 with value: 0.36895282260635914.\n"
          ]
        },
        {
          "output_type": "stream",
          "name": "stdout",
          "text": [
            "Fold: 5  macrof1: 0.36057037905558703\n",
            "FINISHI: Whole Score: 0.3680\n",
            "Fold: 1  macrof1: 0.3661575085066177\n",
            "Fold: 2  macrof1: 0.35776163130149025\n",
            "Fold: 3  macrof1: 0.3730094413837442\n",
            "Fold: 4  macrof1: 0.37138671907818543\n"
          ]
        },
        {
          "output_type": "stream",
          "name": "stderr",
          "text": [
            "[I 2024-01-04 01:34:22,118] Trial 64 finished with value: 0.3666556452515666 and parameters: {'max_depth': 5, 'num_leaves': 17}. Best is trial 61 with value: 0.36895282260635914.\n"
          ]
        },
        {
          "output_type": "stream",
          "name": "stdout",
          "text": [
            "Fold: 5  macrof1: 0.3583694453869215\n",
            "FINISHI: Whole Score: 0.3667\n",
            "Fold: 1  macrof1: 0.37392822607380266\n",
            "Fold: 2  macrof1: 0.36223892180231854\n",
            "Fold: 3  macrof1: 0.37015374777839044\n",
            "Fold: 4  macrof1: 0.36848066846690264\n"
          ]
        },
        {
          "output_type": "stream",
          "name": "stderr",
          "text": [
            "[I 2024-01-04 01:34:25,152] Trial 65 finished with value: 0.3679773876525651 and parameters: {'max_depth': 5, 'num_leaves': 16}. Best is trial 61 with value: 0.36895282260635914.\n"
          ]
        },
        {
          "output_type": "stream",
          "name": "stdout",
          "text": [
            "Fold: 5  macrof1: 0.36057037905558703\n",
            "FINISHI: Whole Score: 0.3680\n",
            "Fold: 1  macrof1: 0.37392822607380266\n",
            "Fold: 2  macrof1: 0.36223892180231854\n",
            "Fold: 3  macrof1: 0.37015374777839044\n",
            "Fold: 4  macrof1: 0.36848066846690264\n"
          ]
        },
        {
          "output_type": "stream",
          "name": "stderr",
          "text": [
            "[I 2024-01-04 01:34:29,366] Trial 66 finished with value: 0.3679773876525651 and parameters: {'max_depth': 5, 'num_leaves': 16}. Best is trial 61 with value: 0.36895282260635914.\n"
          ]
        },
        {
          "output_type": "stream",
          "name": "stdout",
          "text": [
            "Fold: 5  macrof1: 0.36057037905558703\n",
            "FINISHI: Whole Score: 0.3680\n",
            "Fold: 1  macrof1: 0.3661575085066177\n",
            "Fold: 2  macrof1: 0.35776163130149025\n",
            "Fold: 3  macrof1: 0.3730094413837442\n",
            "Fold: 4  macrof1: 0.37138671907818543\n"
          ]
        },
        {
          "output_type": "stream",
          "name": "stderr",
          "text": [
            "[I 2024-01-04 01:34:34,791] Trial 67 finished with value: 0.3666556452515666 and parameters: {'max_depth': 5, 'num_leaves': 17}. Best is trial 61 with value: 0.36895282260635914.\n"
          ]
        },
        {
          "output_type": "stream",
          "name": "stdout",
          "text": [
            "Fold: 5  macrof1: 0.3583694453869215\n",
            "FINISHI: Whole Score: 0.3667\n",
            "Fold: 1  macrof1: 0.37345812294488123\n",
            "Fold: 2  macrof1: 0.3539693759123331\n",
            "Fold: 3  macrof1: 0.36272750023469014\n",
            "Fold: 4  macrof1: 0.36860474731890874\n"
          ]
        },
        {
          "output_type": "stream",
          "name": "stderr",
          "text": [
            "[I 2024-01-04 01:34:37,568] Trial 68 finished with value: 0.3645463219283341 and parameters: {'max_depth': 5, 'num_leaves': 19}. Best is trial 61 with value: 0.36895282260635914.\n"
          ]
        },
        {
          "output_type": "stream",
          "name": "stdout",
          "text": [
            "Fold: 5  macrof1: 0.3609322430328256\n",
            "FINISHI: Whole Score: 0.3645\n",
            "Fold: 1  macrof1: 0.37392822607380266\n",
            "Fold: 2  macrof1: 0.36223892180231854\n",
            "Fold: 3  macrof1: 0.37015374777839044\n",
            "Fold: 4  macrof1: 0.36848066846690264\n"
          ]
        },
        {
          "output_type": "stream",
          "name": "stderr",
          "text": [
            "[I 2024-01-04 01:34:40,453] Trial 69 finished with value: 0.3679773876525651 and parameters: {'max_depth': 5, 'num_leaves': 16}. Best is trial 61 with value: 0.36895282260635914.\n"
          ]
        },
        {
          "output_type": "stream",
          "name": "stdout",
          "text": [
            "Fold: 5  macrof1: 0.36057037905558703\n",
            "FINISHI: Whole Score: 0.3680\n",
            "Fold: 1  macrof1: 0.37392822607380266\n",
            "Fold: 2  macrof1: 0.36223892180231854\n",
            "Fold: 3  macrof1: 0.37015374777839044\n",
            "Fold: 4  macrof1: 0.36848066846690264\n"
          ]
        },
        {
          "output_type": "stream",
          "name": "stderr",
          "text": [
            "[I 2024-01-04 01:34:44,712] Trial 70 finished with value: 0.3679773876525651 and parameters: {'max_depth': 5, 'num_leaves': 16}. Best is trial 61 with value: 0.36895282260635914.\n"
          ]
        },
        {
          "output_type": "stream",
          "name": "stdout",
          "text": [
            "Fold: 5  macrof1: 0.36057037905558703\n",
            "FINISHI: Whole Score: 0.3680\n",
            "Fold: 1  macrof1: 0.37392822607380266\n",
            "Fold: 2  macrof1: 0.36223892180231854\n",
            "Fold: 3  macrof1: 0.37015374777839044\n",
            "Fold: 4  macrof1: 0.36848066846690264\n"
          ]
        },
        {
          "output_type": "stream",
          "name": "stderr",
          "text": [
            "[I 2024-01-04 01:34:50,035] Trial 71 finished with value: 0.3679773876525651 and parameters: {'max_depth': 5, 'num_leaves': 16}. Best is trial 61 with value: 0.36895282260635914.\n"
          ]
        },
        {
          "output_type": "stream",
          "name": "stdout",
          "text": [
            "Fold: 5  macrof1: 0.36057037905558703\n",
            "FINISHI: Whole Score: 0.3680\n",
            "Fold: 1  macrof1: 0.37392822607380266\n",
            "Fold: 2  macrof1: 0.36223892180231854\n",
            "Fold: 3  macrof1: 0.37015374777839044\n",
            "Fold: 4  macrof1: 0.36848066846690264\n"
          ]
        },
        {
          "output_type": "stream",
          "name": "stderr",
          "text": [
            "[I 2024-01-04 01:34:52,895] Trial 72 finished with value: 0.3679773876525651 and parameters: {'max_depth': 5, 'num_leaves': 16}. Best is trial 61 with value: 0.36895282260635914.\n"
          ]
        },
        {
          "output_type": "stream",
          "name": "stdout",
          "text": [
            "Fold: 5  macrof1: 0.36057037905558703\n",
            "FINISHI: Whole Score: 0.3680\n",
            "Fold: 1  macrof1: 0.37345812294488123\n",
            "Fold: 2  macrof1: 0.3539693759123331\n",
            "Fold: 3  macrof1: 0.36272750023469014\n",
            "Fold: 4  macrof1: 0.36860474731890874\n"
          ]
        },
        {
          "output_type": "stream",
          "name": "stderr",
          "text": [
            "[I 2024-01-04 01:34:55,700] Trial 73 finished with value: 0.3645463219283341 and parameters: {'max_depth': 5, 'num_leaves': 19}. Best is trial 61 with value: 0.36895282260635914.\n"
          ]
        },
        {
          "output_type": "stream",
          "name": "stdout",
          "text": [
            "Fold: 5  macrof1: 0.3609322430328256\n",
            "FINISHI: Whole Score: 0.3645\n",
            "Fold: 1  macrof1: 0.3664349494162369\n",
            "Fold: 2  macrof1: 0.3553905253382166\n",
            "Fold: 3  macrof1: 0.372341284170617\n",
            "Fold: 4  macrof1: 0.36796845833021125\n"
          ]
        },
        {
          "output_type": "stream",
          "name": "stderr",
          "text": [
            "[I 2024-01-04 01:34:59,702] Trial 74 finished with value: 0.3672092729605975 and parameters: {'max_depth': 5, 'num_leaves': 18}. Best is trial 61 with value: 0.36895282260635914.\n"
          ]
        },
        {
          "output_type": "stream",
          "name": "stdout",
          "text": [
            "Fold: 5  macrof1: 0.3636594592871672\n",
            "FINISHI: Whole Score: 0.3672\n",
            "Fold: 1  macrof1: 0.37392822607380266\n",
            "Fold: 2  macrof1: 0.36223892180231854\n",
            "Fold: 3  macrof1: 0.37015374777839044\n",
            "Fold: 4  macrof1: 0.36848066846690264\n"
          ]
        },
        {
          "output_type": "stream",
          "name": "stderr",
          "text": [
            "[I 2024-01-04 01:35:05,402] Trial 75 finished with value: 0.3679773876525651 and parameters: {'max_depth': 5, 'num_leaves': 16}. Best is trial 61 with value: 0.36895282260635914.\n"
          ]
        },
        {
          "output_type": "stream",
          "name": "stdout",
          "text": [
            "Fold: 5  macrof1: 0.36057037905558703\n",
            "FINISHI: Whole Score: 0.3680\n",
            "Fold: 1  macrof1: 0.3753106425483299\n",
            "Fold: 2  macrof1: 0.35592859864660303\n",
            "Fold: 3  macrof1: 0.3706792275873687\n",
            "Fold: 4  macrof1: 0.3764366309951607\n"
          ]
        },
        {
          "output_type": "stream",
          "name": "stderr",
          "text": [
            "[I 2024-01-04 01:35:08,216] Trial 76 finished with value: 0.36895282260635914 and parameters: {'max_depth': 5, 'num_leaves': 22}. Best is trial 61 with value: 0.36895282260635914.\n"
          ]
        },
        {
          "output_type": "stream",
          "name": "stdout",
          "text": [
            "Fold: 5  macrof1: 0.3639688536352578\n",
            "FINISHI: Whole Score: 0.3690\n",
            "Fold: 1  macrof1: 0.3758619074537095\n",
            "Fold: 2  macrof1: 0.3597918655145013\n",
            "Fold: 3  macrof1: 0.3707919268543305\n",
            "Fold: 4  macrof1: 0.37042804238419164\n"
          ]
        },
        {
          "output_type": "stream",
          "name": "stderr",
          "text": [
            "[I 2024-01-04 01:35:10,990] Trial 77 finished with value: 0.36845447820385885 and parameters: {'max_depth': 5, 'num_leaves': 20}. Best is trial 61 with value: 0.36895282260635914.\n"
          ]
        },
        {
          "output_type": "stream",
          "name": "stdout",
          "text": [
            "Fold: 5  macrof1: 0.3608293003892382\n",
            "FINISHI: Whole Score: 0.3685\n",
            "Fold: 1  macrof1: 0.3753106425483299\n",
            "Fold: 2  macrof1: 0.35592859864660303\n",
            "Fold: 3  macrof1: 0.3706792275873687\n",
            "Fold: 4  macrof1: 0.3764366309951607\n"
          ]
        },
        {
          "output_type": "stream",
          "name": "stderr",
          "text": [
            "[I 2024-01-04 01:35:14,380] Trial 78 finished with value: 0.36895282260635914 and parameters: {'max_depth': 5, 'num_leaves': 22}. Best is trial 61 with value: 0.36895282260635914.\n"
          ]
        },
        {
          "output_type": "stream",
          "name": "stdout",
          "text": [
            "Fold: 5  macrof1: 0.3639688536352578\n",
            "FINISHI: Whole Score: 0.3690\n",
            "Fold: 1  macrof1: 0.3753106425483299\n",
            "Fold: 2  macrof1: 0.35592859864660303\n",
            "Fold: 3  macrof1: 0.3706792275873687\n",
            "Fold: 4  macrof1: 0.3764366309951607\n"
          ]
        },
        {
          "output_type": "stream",
          "name": "stderr",
          "text": [
            "[I 2024-01-04 01:35:20,164] Trial 79 finished with value: 0.36895282260635914 and parameters: {'max_depth': 5, 'num_leaves': 22}. Best is trial 61 with value: 0.36895282260635914.\n"
          ]
        },
        {
          "output_type": "stream",
          "name": "stdout",
          "text": [
            "Fold: 5  macrof1: 0.3639688536352578\n",
            "FINISHI: Whole Score: 0.3690\n",
            "Fold: 1  macrof1: 0.36796973171069763\n",
            "Fold: 2  macrof1: 0.3602454604813589\n",
            "Fold: 3  macrof1: 0.3674797674415784\n",
            "Fold: 4  macrof1: 0.3735929573211674\n"
          ]
        },
        {
          "output_type": "stream",
          "name": "stderr",
          "text": [
            "[I 2024-01-04 01:35:23,057] Trial 80 finished with value: 0.3667029490725698 and parameters: {'max_depth': 5, 'num_leaves': 21}. Best is trial 61 with value: 0.36895282260635914.\n"
          ]
        },
        {
          "output_type": "stream",
          "name": "stdout",
          "text": [
            "Fold: 5  macrof1: 0.35902747131436685\n",
            "FINISHI: Whole Score: 0.3667\n",
            "Fold: 1  macrof1: 0.3753106425483299\n",
            "Fold: 2  macrof1: 0.35592859864660303\n",
            "Fold: 3  macrof1: 0.3706792275873687\n",
            "Fold: 4  macrof1: 0.3764366309951607\n"
          ]
        },
        {
          "output_type": "stream",
          "name": "stderr",
          "text": [
            "[I 2024-01-04 01:35:25,860] Trial 81 finished with value: 0.36895282260635914 and parameters: {'max_depth': 5, 'num_leaves': 22}. Best is trial 61 with value: 0.36895282260635914.\n"
          ]
        },
        {
          "output_type": "stream",
          "name": "stdout",
          "text": [
            "Fold: 5  macrof1: 0.3639688536352578\n",
            "FINISHI: Whole Score: 0.3690\n",
            "Fold: 1  macrof1: 0.3753106425483299\n",
            "Fold: 2  macrof1: 0.35592859864660303\n",
            "Fold: 3  macrof1: 0.3706792275873687\n",
            "Fold: 4  macrof1: 0.3764366309951607\n"
          ]
        },
        {
          "output_type": "stream",
          "name": "stderr",
          "text": [
            "[I 2024-01-04 01:35:28,865] Trial 82 finished with value: 0.36895282260635914 and parameters: {'max_depth': 5, 'num_leaves': 22}. Best is trial 61 with value: 0.36895282260635914.\n"
          ]
        },
        {
          "output_type": "stream",
          "name": "stdout",
          "text": [
            "Fold: 5  macrof1: 0.3639688536352578\n",
            "FINISHI: Whole Score: 0.3690\n",
            "Fold: 1  macrof1: 0.3753106425483299\n",
            "Fold: 2  macrof1: 0.35592859864660303\n",
            "Fold: 3  macrof1: 0.3706792275873687\n",
            "Fold: 4  macrof1: 0.3764366309951607\n"
          ]
        },
        {
          "output_type": "stream",
          "name": "stderr",
          "text": [
            "[I 2024-01-04 01:35:35,113] Trial 83 finished with value: 0.36895282260635914 and parameters: {'max_depth': 5, 'num_leaves': 22}. Best is trial 61 with value: 0.36895282260635914.\n"
          ]
        },
        {
          "output_type": "stream",
          "name": "stdout",
          "text": [
            "Fold: 5  macrof1: 0.3639688536352578\n",
            "FINISHI: Whole Score: 0.3690\n",
            "Fold: 1  macrof1: 0.3753106425483299\n",
            "Fold: 2  macrof1: 0.35592859864660303\n",
            "Fold: 3  macrof1: 0.3706792275873687\n",
            "Fold: 4  macrof1: 0.3764366309951607\n"
          ]
        },
        {
          "output_type": "stream",
          "name": "stderr",
          "text": [
            "[I 2024-01-04 01:35:37,924] Trial 84 finished with value: 0.36895282260635914 and parameters: {'max_depth': 5, 'num_leaves': 22}. Best is trial 61 with value: 0.36895282260635914.\n"
          ]
        },
        {
          "output_type": "stream",
          "name": "stdout",
          "text": [
            "Fold: 5  macrof1: 0.3639688536352578\n",
            "FINISHI: Whole Score: 0.3690\n",
            "Fold: 1  macrof1: 0.3753106425483299\n",
            "Fold: 2  macrof1: 0.35592859864660303\n",
            "Fold: 3  macrof1: 0.3706792275873687\n",
            "Fold: 4  macrof1: 0.3764366309951607\n"
          ]
        },
        {
          "output_type": "stream",
          "name": "stderr",
          "text": [
            "[I 2024-01-04 01:35:40,702] Trial 85 finished with value: 0.36895282260635914 and parameters: {'max_depth': 5, 'num_leaves': 22}. Best is trial 61 with value: 0.36895282260635914.\n"
          ]
        },
        {
          "output_type": "stream",
          "name": "stdout",
          "text": [
            "Fold: 5  macrof1: 0.3639688536352578\n",
            "FINISHI: Whole Score: 0.3690\n",
            "Fold: 1  macrof1: 0.3753106425483299\n",
            "Fold: 2  macrof1: 0.35592859864660303\n",
            "Fold: 3  macrof1: 0.3706792275873687\n",
            "Fold: 4  macrof1: 0.3764366309951607\n"
          ]
        },
        {
          "output_type": "stream",
          "name": "stderr",
          "text": [
            "[I 2024-01-04 01:35:43,480] Trial 86 finished with value: 0.36895282260635914 and parameters: {'max_depth': 5, 'num_leaves': 22}. Best is trial 61 with value: 0.36895282260635914.\n"
          ]
        },
        {
          "output_type": "stream",
          "name": "stdout",
          "text": [
            "Fold: 5  macrof1: 0.3639688536352578\n",
            "FINISHI: Whole Score: 0.3690\n",
            "Fold: 1  macrof1: 0.3712278072963618\n",
            "Fold: 2  macrof1: 0.3531160677415343\n",
            "Fold: 3  macrof1: 0.36970812199463116\n",
            "Fold: 4  macrof1: 0.3718433926512354\n"
          ]
        },
        {
          "output_type": "stream",
          "name": "stderr",
          "text": [
            "[I 2024-01-04 01:35:49,860] Trial 87 finished with value: 0.36691395983443714 and parameters: {'max_depth': 5, 'num_leaves': 23}. Best is trial 61 with value: 0.36895282260635914.\n"
          ]
        },
        {
          "output_type": "stream",
          "name": "stdout",
          "text": [
            "Fold: 5  macrof1: 0.36219543965457374\n",
            "FINISHI: Whole Score: 0.3669\n",
            "Fold: 1  macrof1: 0.3637630279730694\n",
            "Fold: 2  macrof1: 0.3533474572367377\n",
            "Fold: 3  macrof1: 0.3713859984700542\n",
            "Fold: 4  macrof1: 0.3724246765121389\n"
          ]
        },
        {
          "output_type": "stream",
          "name": "stderr",
          "text": [
            "[I 2024-01-04 01:35:52,794] Trial 88 finished with value: 0.3661819024343866 and parameters: {'max_depth': 5, 'num_leaves': 24}. Best is trial 61 with value: 0.36895282260635914.\n"
          ]
        },
        {
          "output_type": "stream",
          "name": "stdout",
          "text": [
            "Fold: 5  macrof1: 0.3672196829243866\n",
            "FINISHI: Whole Score: 0.3662\n",
            "Fold: 1  macrof1: 0.3753106425483299\n",
            "Fold: 2  macrof1: 0.35592859864660303\n",
            "Fold: 3  macrof1: 0.3706792275873687\n",
            "Fold: 4  macrof1: 0.3764366309951607\n"
          ]
        },
        {
          "output_type": "stream",
          "name": "stderr",
          "text": [
            "[I 2024-01-04 01:35:55,555] Trial 89 finished with value: 0.36895282260635914 and parameters: {'max_depth': 5, 'num_leaves': 22}. Best is trial 61 with value: 0.36895282260635914.\n"
          ]
        },
        {
          "output_type": "stream",
          "name": "stdout",
          "text": [
            "Fold: 5  macrof1: 0.3639688536352578\n",
            "FINISHI: Whole Score: 0.3690\n",
            "Fold: 1  macrof1: 0.3637630279730694\n",
            "Fold: 2  macrof1: 0.3533474572367377\n",
            "Fold: 3  macrof1: 0.3713859984700542\n",
            "Fold: 4  macrof1: 0.3724246765121389\n"
          ]
        },
        {
          "output_type": "stream",
          "name": "stderr",
          "text": [
            "[I 2024-01-04 01:35:58,525] Trial 90 finished with value: 0.3661819024343866 and parameters: {'max_depth': 5, 'num_leaves': 24}. Best is trial 61 with value: 0.36895282260635914.\n"
          ]
        },
        {
          "output_type": "stream",
          "name": "stdout",
          "text": [
            "Fold: 5  macrof1: 0.3672196829243866\n",
            "FINISHI: Whole Score: 0.3662\n",
            "Fold: 1  macrof1: 0.3753106425483299\n",
            "Fold: 2  macrof1: 0.35592859864660303\n",
            "Fold: 3  macrof1: 0.3706792275873687\n",
            "Fold: 4  macrof1: 0.3764366309951607\n"
          ]
        },
        {
          "output_type": "stream",
          "name": "stderr",
          "text": [
            "[I 2024-01-04 01:36:05,021] Trial 91 finished with value: 0.36895282260635914 and parameters: {'max_depth': 5, 'num_leaves': 22}. Best is trial 61 with value: 0.36895282260635914.\n"
          ]
        },
        {
          "output_type": "stream",
          "name": "stdout",
          "text": [
            "Fold: 5  macrof1: 0.3639688536352578\n",
            "FINISHI: Whole Score: 0.3690\n",
            "Fold: 1  macrof1: 0.3753106425483299\n",
            "Fold: 2  macrof1: 0.35592859864660303\n",
            "Fold: 3  macrof1: 0.3706792275873687\n",
            "Fold: 4  macrof1: 0.3764366309951607\n"
          ]
        },
        {
          "output_type": "stream",
          "name": "stderr",
          "text": [
            "[I 2024-01-04 01:36:07,884] Trial 92 finished with value: 0.36895282260635914 and parameters: {'max_depth': 5, 'num_leaves': 22}. Best is trial 61 with value: 0.36895282260635914.\n"
          ]
        },
        {
          "output_type": "stream",
          "name": "stdout",
          "text": [
            "Fold: 5  macrof1: 0.3639688536352578\n",
            "FINISHI: Whole Score: 0.3690\n",
            "Fold: 1  macrof1: 0.3758619074537095\n",
            "Fold: 2  macrof1: 0.3597918655145013\n",
            "Fold: 3  macrof1: 0.3707919268543305\n",
            "Fold: 4  macrof1: 0.37042804238419164\n"
          ]
        },
        {
          "output_type": "stream",
          "name": "stderr",
          "text": [
            "[I 2024-01-04 01:36:10,629] Trial 93 finished with value: 0.36845447820385885 and parameters: {'max_depth': 5, 'num_leaves': 20}. Best is trial 61 with value: 0.36895282260635914.\n"
          ]
        },
        {
          "output_type": "stream",
          "name": "stdout",
          "text": [
            "Fold: 5  macrof1: 0.3608293003892382\n",
            "FINISHI: Whole Score: 0.3685\n",
            "Fold: 1  macrof1: 0.3753106425483299\n",
            "Fold: 2  macrof1: 0.35592859864660303\n",
            "Fold: 3  macrof1: 0.3706792275873687\n",
            "Fold: 4  macrof1: 0.3764366309951607\n"
          ]
        },
        {
          "output_type": "stream",
          "name": "stderr",
          "text": [
            "[I 2024-01-04 01:36:13,393] Trial 94 finished with value: 0.36895282260635914 and parameters: {'max_depth': 5, 'num_leaves': 22}. Best is trial 61 with value: 0.36895282260635914.\n"
          ]
        },
        {
          "output_type": "stream",
          "name": "stdout",
          "text": [
            "Fold: 5  macrof1: 0.3639688536352578\n",
            "FINISHI: Whole Score: 0.3690\n",
            "Fold: 1  macrof1: 0.3758619074537095\n",
            "Fold: 2  macrof1: 0.3597918655145013\n",
            "Fold: 3  macrof1: 0.3707919268543305\n",
            "Fold: 4  macrof1: 0.37042804238419164\n"
          ]
        },
        {
          "output_type": "stream",
          "name": "stderr",
          "text": [
            "[I 2024-01-04 01:36:19,852] Trial 95 finished with value: 0.36845447820385885 and parameters: {'max_depth': 5, 'num_leaves': 20}. Best is trial 61 with value: 0.36895282260635914.\n"
          ]
        },
        {
          "output_type": "stream",
          "name": "stdout",
          "text": [
            "Fold: 5  macrof1: 0.3608293003892382\n",
            "FINISHI: Whole Score: 0.3685\n",
            "Fold: 1  macrof1: 0.3712278072963618\n",
            "Fold: 2  macrof1: 0.3531160677415343\n",
            "Fold: 3  macrof1: 0.36970812199463116\n",
            "Fold: 4  macrof1: 0.3718433926512354\n"
          ]
        },
        {
          "output_type": "stream",
          "name": "stderr",
          "text": [
            "[I 2024-01-04 01:36:22,501] Trial 96 finished with value: 0.36691395983443714 and parameters: {'max_depth': 5, 'num_leaves': 23}. Best is trial 61 with value: 0.36895282260635914.\n"
          ]
        },
        {
          "output_type": "stream",
          "name": "stdout",
          "text": [
            "Fold: 5  macrof1: 0.36219543965457374\n",
            "FINISHI: Whole Score: 0.3669\n",
            "Fold: 1  macrof1: 0.37197433830215315\n",
            "Fold: 2  macrof1: 0.35981257342485434\n",
            "Fold: 3  macrof1: 0.3676992739518299\n",
            "Fold: 4  macrof1: 0.3754069752005875\n"
          ]
        },
        {
          "output_type": "stream",
          "name": "stderr",
          "text": [
            "[I 2024-01-04 01:36:25,561] Trial 97 finished with value: 0.3670425594847109 and parameters: {'max_depth': 5, 'num_leaves': 28}. Best is trial 61 with value: 0.36895282260635914.\n"
          ]
        },
        {
          "output_type": "stream",
          "name": "stdout",
          "text": [
            "Fold: 5  macrof1: 0.35459999905701606\n",
            "FINISHI: Whole Score: 0.3670\n",
            "Fold: 1  macrof1: 0.3664349494162369\n",
            "Fold: 2  macrof1: 0.3553905253382166\n",
            "Fold: 3  macrof1: 0.372341284170617\n",
            "Fold: 4  macrof1: 0.36796845833021125\n"
          ]
        },
        {
          "output_type": "stream",
          "name": "stderr",
          "text": [
            "[I 2024-01-04 01:36:28,509] Trial 98 finished with value: 0.3672092729605975 and parameters: {'max_depth': 5, 'num_leaves': 18}. Best is trial 61 with value: 0.36895282260635914.\n"
          ]
        },
        {
          "output_type": "stream",
          "name": "stdout",
          "text": [
            "Fold: 5  macrof1: 0.3636594592871672\n",
            "FINISHI: Whole Score: 0.3672\n",
            "Fold: 1  macrof1: 0.3637630279730694\n",
            "Fold: 2  macrof1: 0.3533474572367377\n",
            "Fold: 3  macrof1: 0.3713859984700542\n",
            "Fold: 4  macrof1: 0.3724246765121389\n"
          ]
        },
        {
          "output_type": "stream",
          "name": "stderr",
          "text": [
            "[I 2024-01-04 01:36:35,144] Trial 99 finished with value: 0.3661819024343866 and parameters: {'max_depth': 5, 'num_leaves': 24}. Best is trial 61 with value: 0.36895282260635914.\n"
          ]
        },
        {
          "output_type": "stream",
          "name": "stdout",
          "text": [
            "Fold: 5  macrof1: 0.3672196829243866\n",
            "FINISHI: Whole Score: 0.3662\n",
            "Number of finished trials: 100\n",
            "Best trial: {'max_depth': 5, 'num_leaves': 22}\n"
          ]
        },
        {
          "output_type": "execute_result",
          "data": {
            "text/plain": [
              "{'max_depth': 5, 'num_leaves': 22}"
            ]
          },
          "metadata": {},
          "execution_count": 17
        }
      ]
    },
    {
      "cell_type": "code",
      "source": [],
      "metadata": {
        "id": "PUQ8YfHtYbIG"
      },
      "execution_count": null,
      "outputs": []
    }
  ],
  "metadata": {
    "colab": {
      "provenance": [],
      "collapsed_sections": [
        "9UsSw-lTe0V-"
      ],
      "gpuType": "T4"
    },
    "kernelspec": {
      "display_name": "Python 3",
      "name": "python3"
    },
    "language_info": {
      "codemirror_mode": {
        "name": "ipython",
        "version": 3
      },
      "file_extension": ".py",
      "mimetype": "text/x-python",
      "name": "python",
      "nbconvert_exporter": "python",
      "pygments_lexer": "ipython3",
      "version": "3.8.5"
    },
    "vscode": {
      "interpreter": {
        "hash": "cd6638a43abbcfd5164b575c7eae2406c5f3baff1c3edb13806cb0c1c506ab67"
      }
    }
  },
  "nbformat": 4,
  "nbformat_minor": 0
}